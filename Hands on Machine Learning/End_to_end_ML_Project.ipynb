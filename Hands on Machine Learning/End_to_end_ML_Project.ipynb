{
  "nbformat": 4,
  "nbformat_minor": 0,
  "metadata": {
    "colab": {
      "name": "End to end ML Project.ipynb",
      "provenance": [],
      "collapsed_sections": []
    },
    "kernelspec": {
      "name": "python3",
      "display_name": "Python 3"
    },
    "language_info": {
      "name": "python"
    }
  },
  "cells": [
    {
      "cell_type": "markdown",
      "source": [
        "# Ensuring Everything is in the right place"
      ],
      "metadata": {
        "id": "RyPO_vIxpnk8"
      }
    },
    {
      "cell_type": "code",
      "execution_count": 32,
      "metadata": {
        "id": "Lh9Trr1AoPA0"
      },
      "outputs": [],
      "source": [
        "# Python ≥3.5 is required\n",
        "import sys\n",
        "assert sys.version_info >= (3, 5)\n",
        "\n",
        "# Scikit-Learn ≥0.20 is required\n",
        "import sklearn\n",
        "assert sklearn.__version__ >= \"0.20\"\n",
        "\n",
        "# Common imports\n",
        "import numpy as np\n",
        "import os\n",
        "\n",
        "# To plot pretty figures\n",
        "%matplotlib inline\n",
        "import matplotlib as mpl\n",
        "import matplotlib.pyplot as plt\n",
        "mpl.rc('axes', labelsize=14)\n",
        "mpl.rc('xtick', labelsize=12)\n",
        "mpl.rc('ytick', labelsize=12)\n",
        "\n",
        "# Where to save the figures\n",
        "PROJECT_ROOT_DIR = \".\"\n",
        "CHAPTER_ID = \"end_to_end_project\"\n",
        "IMAGES_PATH = os.path.join(PROJECT_ROOT_DIR, \"images\", CHAPTER_ID)\n",
        "os.makedirs(IMAGES_PATH, exist_ok=True)\n",
        "\n",
        "def save_fig(fig_id, tight_layout=True, fig_extension=\"png\", resolution=300):\n",
        "    path = os.path.join(IMAGES_PATH, fig_id + \".\" + fig_extension)\n",
        "    print(\"Saving figure\", fig_id)\n",
        "    if tight_layout:\n",
        "        plt.tight_layout()\n",
        "    plt.savefig(path, format=fig_extension, dpi=resolution)"
      ]
    },
    {
      "cell_type": "markdown",
      "source": [
        "# Downloading Data"
      ],
      "metadata": {
        "id": "HRv-vMWTpw3L"
      }
    },
    {
      "cell_type": "code",
      "source": [
        "import os\n",
        "import tarfile\n",
        "import urllib.request\n",
        "\n",
        "url = \"https://raw.githubusercontent.com/ageron/handson-ml2/master/\"\n",
        "path = os.path.join(\"datasets\", \"housing\")\n",
        "url_housing = url + \"datasets/housing/housing.tgz\"\n",
        "\n",
        "def fetch_housing_data(housing_url=url_housing, housing_path=path):\n",
        "    if not os.path.isdir(housing_path):\n",
        "        os.makedirs(housing_path)\n",
        "    tgz_path = os.path.join(housing_path, \"housing.tgz\")\n",
        "    urllib.request.urlretrieve(housing_url, tgz_path)\n",
        "    housing_tgz = tarfile.open(tgz_path)\n",
        "    housing_tgz.extractall(path=housing_path)\n",
        "    housing_tgz.close()"
      ],
      "metadata": {
        "id": "ibC4RNtUpt0q"
      },
      "execution_count": 33,
      "outputs": []
    },
    {
      "cell_type": "code",
      "source": [
        "fetch_housing_data()"
      ],
      "metadata": {
        "id": "1QiSbUK3qOYd"
      },
      "execution_count": 34,
      "outputs": []
    },
    {
      "cell_type": "markdown",
      "source": [
        "# Loading the Data"
      ],
      "metadata": {
        "id": "9_2kW0T1qdgS"
      }
    },
    {
      "cell_type": "code",
      "source": [
        "import pandas as pd\n",
        "\n",
        "housing = pd.read_csv(os.path.join(path,'housing.csv'))\n",
        "housing.head()"
      ],
      "metadata": {
        "colab": {
          "base_uri": "https://localhost:8080/",
          "height": 206
        },
        "id": "EIyAzEXxqcbN",
        "outputId": "1d0411c8-3c20-474e-b81f-35becf688c7e"
      },
      "execution_count": 35,
      "outputs": [
        {
          "output_type": "execute_result",
          "data": {
            "text/plain": [
              "   longitude  latitude  housing_median_age  total_rooms  total_bedrooms  \\\n",
              "0    -122.23     37.88                41.0        880.0           129.0   \n",
              "1    -122.22     37.86                21.0       7099.0          1106.0   \n",
              "2    -122.24     37.85                52.0       1467.0           190.0   \n",
              "3    -122.25     37.85                52.0       1274.0           235.0   \n",
              "4    -122.25     37.85                52.0       1627.0           280.0   \n",
              "\n",
              "   population  households  median_income  median_house_value ocean_proximity  \n",
              "0       322.0       126.0         8.3252            452600.0        NEAR BAY  \n",
              "1      2401.0      1138.0         8.3014            358500.0        NEAR BAY  \n",
              "2       496.0       177.0         7.2574            352100.0        NEAR BAY  \n",
              "3       558.0       219.0         5.6431            341300.0        NEAR BAY  \n",
              "4       565.0       259.0         3.8462            342200.0        NEAR BAY  "
            ],
            "text/html": [
              "\n",
              "  <div id=\"df-f7d1f95d-67ec-494b-af27-62e34e85cf56\">\n",
              "    <div class=\"colab-df-container\">\n",
              "      <div>\n",
              "<style scoped>\n",
              "    .dataframe tbody tr th:only-of-type {\n",
              "        vertical-align: middle;\n",
              "    }\n",
              "\n",
              "    .dataframe tbody tr th {\n",
              "        vertical-align: top;\n",
              "    }\n",
              "\n",
              "    .dataframe thead th {\n",
              "        text-align: right;\n",
              "    }\n",
              "</style>\n",
              "<table border=\"1\" class=\"dataframe\">\n",
              "  <thead>\n",
              "    <tr style=\"text-align: right;\">\n",
              "      <th></th>\n",
              "      <th>longitude</th>\n",
              "      <th>latitude</th>\n",
              "      <th>housing_median_age</th>\n",
              "      <th>total_rooms</th>\n",
              "      <th>total_bedrooms</th>\n",
              "      <th>population</th>\n",
              "      <th>households</th>\n",
              "      <th>median_income</th>\n",
              "      <th>median_house_value</th>\n",
              "      <th>ocean_proximity</th>\n",
              "    </tr>\n",
              "  </thead>\n",
              "  <tbody>\n",
              "    <tr>\n",
              "      <th>0</th>\n",
              "      <td>-122.23</td>\n",
              "      <td>37.88</td>\n",
              "      <td>41.0</td>\n",
              "      <td>880.0</td>\n",
              "      <td>129.0</td>\n",
              "      <td>322.0</td>\n",
              "      <td>126.0</td>\n",
              "      <td>8.3252</td>\n",
              "      <td>452600.0</td>\n",
              "      <td>NEAR BAY</td>\n",
              "    </tr>\n",
              "    <tr>\n",
              "      <th>1</th>\n",
              "      <td>-122.22</td>\n",
              "      <td>37.86</td>\n",
              "      <td>21.0</td>\n",
              "      <td>7099.0</td>\n",
              "      <td>1106.0</td>\n",
              "      <td>2401.0</td>\n",
              "      <td>1138.0</td>\n",
              "      <td>8.3014</td>\n",
              "      <td>358500.0</td>\n",
              "      <td>NEAR BAY</td>\n",
              "    </tr>\n",
              "    <tr>\n",
              "      <th>2</th>\n",
              "      <td>-122.24</td>\n",
              "      <td>37.85</td>\n",
              "      <td>52.0</td>\n",
              "      <td>1467.0</td>\n",
              "      <td>190.0</td>\n",
              "      <td>496.0</td>\n",
              "      <td>177.0</td>\n",
              "      <td>7.2574</td>\n",
              "      <td>352100.0</td>\n",
              "      <td>NEAR BAY</td>\n",
              "    </tr>\n",
              "    <tr>\n",
              "      <th>3</th>\n",
              "      <td>-122.25</td>\n",
              "      <td>37.85</td>\n",
              "      <td>52.0</td>\n",
              "      <td>1274.0</td>\n",
              "      <td>235.0</td>\n",
              "      <td>558.0</td>\n",
              "      <td>219.0</td>\n",
              "      <td>5.6431</td>\n",
              "      <td>341300.0</td>\n",
              "      <td>NEAR BAY</td>\n",
              "    </tr>\n",
              "    <tr>\n",
              "      <th>4</th>\n",
              "      <td>-122.25</td>\n",
              "      <td>37.85</td>\n",
              "      <td>52.0</td>\n",
              "      <td>1627.0</td>\n",
              "      <td>280.0</td>\n",
              "      <td>565.0</td>\n",
              "      <td>259.0</td>\n",
              "      <td>3.8462</td>\n",
              "      <td>342200.0</td>\n",
              "      <td>NEAR BAY</td>\n",
              "    </tr>\n",
              "  </tbody>\n",
              "</table>\n",
              "</div>\n",
              "      <button class=\"colab-df-convert\" onclick=\"convertToInteractive('df-f7d1f95d-67ec-494b-af27-62e34e85cf56')\"\n",
              "              title=\"Convert this dataframe to an interactive table.\"\n",
              "              style=\"display:none;\">\n",
              "        \n",
              "  <svg xmlns=\"http://www.w3.org/2000/svg\" height=\"24px\"viewBox=\"0 0 24 24\"\n",
              "       width=\"24px\">\n",
              "    <path d=\"M0 0h24v24H0V0z\" fill=\"none\"/>\n",
              "    <path d=\"M18.56 5.44l.94 2.06.94-2.06 2.06-.94-2.06-.94-.94-2.06-.94 2.06-2.06.94zm-11 1L8.5 8.5l.94-2.06 2.06-.94-2.06-.94L8.5 2.5l-.94 2.06-2.06.94zm10 10l.94 2.06.94-2.06 2.06-.94-2.06-.94-.94-2.06-.94 2.06-2.06.94z\"/><path d=\"M17.41 7.96l-1.37-1.37c-.4-.4-.92-.59-1.43-.59-.52 0-1.04.2-1.43.59L10.3 9.45l-7.72 7.72c-.78.78-.78 2.05 0 2.83L4 21.41c.39.39.9.59 1.41.59.51 0 1.02-.2 1.41-.59l7.78-7.78 2.81-2.81c.8-.78.8-2.07 0-2.86zM5.41 20L4 18.59l7.72-7.72 1.47 1.35L5.41 20z\"/>\n",
              "  </svg>\n",
              "      </button>\n",
              "      \n",
              "  <style>\n",
              "    .colab-df-container {\n",
              "      display:flex;\n",
              "      flex-wrap:wrap;\n",
              "      gap: 12px;\n",
              "    }\n",
              "\n",
              "    .colab-df-convert {\n",
              "      background-color: #E8F0FE;\n",
              "      border: none;\n",
              "      border-radius: 50%;\n",
              "      cursor: pointer;\n",
              "      display: none;\n",
              "      fill: #1967D2;\n",
              "      height: 32px;\n",
              "      padding: 0 0 0 0;\n",
              "      width: 32px;\n",
              "    }\n",
              "\n",
              "    .colab-df-convert:hover {\n",
              "      background-color: #E2EBFA;\n",
              "      box-shadow: 0px 1px 2px rgba(60, 64, 67, 0.3), 0px 1px 3px 1px rgba(60, 64, 67, 0.15);\n",
              "      fill: #174EA6;\n",
              "    }\n",
              "\n",
              "    [theme=dark] .colab-df-convert {\n",
              "      background-color: #3B4455;\n",
              "      fill: #D2E3FC;\n",
              "    }\n",
              "\n",
              "    [theme=dark] .colab-df-convert:hover {\n",
              "      background-color: #434B5C;\n",
              "      box-shadow: 0px 1px 3px 1px rgba(0, 0, 0, 0.15);\n",
              "      filter: drop-shadow(0px 1px 2px rgba(0, 0, 0, 0.3));\n",
              "      fill: #FFFFFF;\n",
              "    }\n",
              "  </style>\n",
              "\n",
              "      <script>\n",
              "        const buttonEl =\n",
              "          document.querySelector('#df-f7d1f95d-67ec-494b-af27-62e34e85cf56 button.colab-df-convert');\n",
              "        buttonEl.style.display =\n",
              "          google.colab.kernel.accessAllowed ? 'block' : 'none';\n",
              "\n",
              "        async function convertToInteractive(key) {\n",
              "          const element = document.querySelector('#df-f7d1f95d-67ec-494b-af27-62e34e85cf56');\n",
              "          const dataTable =\n",
              "            await google.colab.kernel.invokeFunction('convertToInteractive',\n",
              "                                                     [key], {});\n",
              "          if (!dataTable) return;\n",
              "\n",
              "          const docLinkHtml = 'Like what you see? Visit the ' +\n",
              "            '<a target=\"_blank\" href=https://colab.research.google.com/notebooks/data_table.ipynb>data table notebook</a>'\n",
              "            + ' to learn more about interactive tables.';\n",
              "          element.innerHTML = '';\n",
              "          dataTable['output_type'] = 'display_data';\n",
              "          await google.colab.output.renderOutput(dataTable, element);\n",
              "          const docLink = document.createElement('div');\n",
              "          docLink.innerHTML = docLinkHtml;\n",
              "          element.appendChild(docLink);\n",
              "        }\n",
              "      </script>\n",
              "    </div>\n",
              "  </div>\n",
              "  "
            ]
          },
          "metadata": {},
          "execution_count": 35
        }
      ]
    },
    {
      "cell_type": "markdown",
      "source": [
        "# Examining the Data"
      ],
      "metadata": {
        "id": "ZTrVTMNYq1MU"
      }
    },
    {
      "cell_type": "code",
      "source": [
        "# Getting list of columns\n",
        "housing.columns"
      ],
      "metadata": {
        "colab": {
          "base_uri": "https://localhost:8080/"
        },
        "id": "PEAFXWtYq3cy",
        "outputId": "3580e683-c4ce-4216-aaf3-c9afb2c791f6"
      },
      "execution_count": 36,
      "outputs": [
        {
          "output_type": "execute_result",
          "data": {
            "text/plain": [
              "Index(['longitude', 'latitude', 'housing_median_age', 'total_rooms',\n",
              "       'total_bedrooms', 'population', 'households', 'median_income',\n",
              "       'median_house_value', 'ocean_proximity'],\n",
              "      dtype='object')"
            ]
          },
          "metadata": {},
          "execution_count": 36
        }
      ]
    },
    {
      "cell_type": "code",
      "source": [
        "# Getting bit more info on data\n",
        "housing.info()"
      ],
      "metadata": {
        "colab": {
          "base_uri": "https://localhost:8080/"
        },
        "id": "Yr5jtkpgrIm-",
        "outputId": "4500233f-5372-4af4-f99b-757930ee74fa"
      },
      "execution_count": 37,
      "outputs": [
        {
          "output_type": "stream",
          "name": "stdout",
          "text": [
            "<class 'pandas.core.frame.DataFrame'>\n",
            "RangeIndex: 20640 entries, 0 to 20639\n",
            "Data columns (total 10 columns):\n",
            " #   Column              Non-Null Count  Dtype  \n",
            "---  ------              --------------  -----  \n",
            " 0   longitude           20640 non-null  float64\n",
            " 1   latitude            20640 non-null  float64\n",
            " 2   housing_median_age  20640 non-null  float64\n",
            " 3   total_rooms         20640 non-null  float64\n",
            " 4   total_bedrooms      20433 non-null  float64\n",
            " 5   population          20640 non-null  float64\n",
            " 6   households          20640 non-null  float64\n",
            " 7   median_income       20640 non-null  float64\n",
            " 8   median_house_value  20640 non-null  float64\n",
            " 9   ocean_proximity     20640 non-null  object \n",
            "dtypes: float64(9), object(1)\n",
            "memory usage: 1.6+ MB\n"
          ]
        }
      ]
    },
    {
      "cell_type": "code",
      "source": [
        "# Count of values of categorical labels\n",
        "housing['ocean_proximity'].value_counts()"
      ],
      "metadata": {
        "colab": {
          "base_uri": "https://localhost:8080/"
        },
        "id": "x14BIMD4rQnk",
        "outputId": "ffa45677-362f-4a94-969d-cf071c25f0d8"
      },
      "execution_count": 38,
      "outputs": [
        {
          "output_type": "execute_result",
          "data": {
            "text/plain": [
              "<1H OCEAN     9136\n",
              "INLAND        6551\n",
              "NEAR OCEAN    2658\n",
              "NEAR BAY      2290\n",
              "ISLAND           5\n",
              "Name: ocean_proximity, dtype: int64"
            ]
          },
          "metadata": {},
          "execution_count": 38
        }
      ]
    },
    {
      "cell_type": "code",
      "source": [
        "# Statistical summary of data\n",
        "housing.describe()"
      ],
      "metadata": {
        "colab": {
          "base_uri": "https://localhost:8080/",
          "height": 300
        },
        "id": "gPmiqyTFsD0F",
        "outputId": "7af8649b-cdcc-43e9-fd0b-84a7fb8c0103"
      },
      "execution_count": 39,
      "outputs": [
        {
          "output_type": "execute_result",
          "data": {
            "text/plain": [
              "          longitude      latitude  housing_median_age   total_rooms  \\\n",
              "count  20640.000000  20640.000000        20640.000000  20640.000000   \n",
              "mean    -119.569704     35.631861           28.639486   2635.763081   \n",
              "std        2.003532      2.135952           12.585558   2181.615252   \n",
              "min     -124.350000     32.540000            1.000000      2.000000   \n",
              "25%     -121.800000     33.930000           18.000000   1447.750000   \n",
              "50%     -118.490000     34.260000           29.000000   2127.000000   \n",
              "75%     -118.010000     37.710000           37.000000   3148.000000   \n",
              "max     -114.310000     41.950000           52.000000  39320.000000   \n",
              "\n",
              "       total_bedrooms    population    households  median_income  \\\n",
              "count    20433.000000  20640.000000  20640.000000   20640.000000   \n",
              "mean       537.870553   1425.476744    499.539680       3.870671   \n",
              "std        421.385070   1132.462122    382.329753       1.899822   \n",
              "min          1.000000      3.000000      1.000000       0.499900   \n",
              "25%        296.000000    787.000000    280.000000       2.563400   \n",
              "50%        435.000000   1166.000000    409.000000       3.534800   \n",
              "75%        647.000000   1725.000000    605.000000       4.743250   \n",
              "max       6445.000000  35682.000000   6082.000000      15.000100   \n",
              "\n",
              "       median_house_value  \n",
              "count        20640.000000  \n",
              "mean        206855.816909  \n",
              "std         115395.615874  \n",
              "min          14999.000000  \n",
              "25%         119600.000000  \n",
              "50%         179700.000000  \n",
              "75%         264725.000000  \n",
              "max         500001.000000  "
            ],
            "text/html": [
              "\n",
              "  <div id=\"df-8b43add9-f2ab-4606-a31c-08c20702df83\">\n",
              "    <div class=\"colab-df-container\">\n",
              "      <div>\n",
              "<style scoped>\n",
              "    .dataframe tbody tr th:only-of-type {\n",
              "        vertical-align: middle;\n",
              "    }\n",
              "\n",
              "    .dataframe tbody tr th {\n",
              "        vertical-align: top;\n",
              "    }\n",
              "\n",
              "    .dataframe thead th {\n",
              "        text-align: right;\n",
              "    }\n",
              "</style>\n",
              "<table border=\"1\" class=\"dataframe\">\n",
              "  <thead>\n",
              "    <tr style=\"text-align: right;\">\n",
              "      <th></th>\n",
              "      <th>longitude</th>\n",
              "      <th>latitude</th>\n",
              "      <th>housing_median_age</th>\n",
              "      <th>total_rooms</th>\n",
              "      <th>total_bedrooms</th>\n",
              "      <th>population</th>\n",
              "      <th>households</th>\n",
              "      <th>median_income</th>\n",
              "      <th>median_house_value</th>\n",
              "    </tr>\n",
              "  </thead>\n",
              "  <tbody>\n",
              "    <tr>\n",
              "      <th>count</th>\n",
              "      <td>20640.000000</td>\n",
              "      <td>20640.000000</td>\n",
              "      <td>20640.000000</td>\n",
              "      <td>20640.000000</td>\n",
              "      <td>20433.000000</td>\n",
              "      <td>20640.000000</td>\n",
              "      <td>20640.000000</td>\n",
              "      <td>20640.000000</td>\n",
              "      <td>20640.000000</td>\n",
              "    </tr>\n",
              "    <tr>\n",
              "      <th>mean</th>\n",
              "      <td>-119.569704</td>\n",
              "      <td>35.631861</td>\n",
              "      <td>28.639486</td>\n",
              "      <td>2635.763081</td>\n",
              "      <td>537.870553</td>\n",
              "      <td>1425.476744</td>\n",
              "      <td>499.539680</td>\n",
              "      <td>3.870671</td>\n",
              "      <td>206855.816909</td>\n",
              "    </tr>\n",
              "    <tr>\n",
              "      <th>std</th>\n",
              "      <td>2.003532</td>\n",
              "      <td>2.135952</td>\n",
              "      <td>12.585558</td>\n",
              "      <td>2181.615252</td>\n",
              "      <td>421.385070</td>\n",
              "      <td>1132.462122</td>\n",
              "      <td>382.329753</td>\n",
              "      <td>1.899822</td>\n",
              "      <td>115395.615874</td>\n",
              "    </tr>\n",
              "    <tr>\n",
              "      <th>min</th>\n",
              "      <td>-124.350000</td>\n",
              "      <td>32.540000</td>\n",
              "      <td>1.000000</td>\n",
              "      <td>2.000000</td>\n",
              "      <td>1.000000</td>\n",
              "      <td>3.000000</td>\n",
              "      <td>1.000000</td>\n",
              "      <td>0.499900</td>\n",
              "      <td>14999.000000</td>\n",
              "    </tr>\n",
              "    <tr>\n",
              "      <th>25%</th>\n",
              "      <td>-121.800000</td>\n",
              "      <td>33.930000</td>\n",
              "      <td>18.000000</td>\n",
              "      <td>1447.750000</td>\n",
              "      <td>296.000000</td>\n",
              "      <td>787.000000</td>\n",
              "      <td>280.000000</td>\n",
              "      <td>2.563400</td>\n",
              "      <td>119600.000000</td>\n",
              "    </tr>\n",
              "    <tr>\n",
              "      <th>50%</th>\n",
              "      <td>-118.490000</td>\n",
              "      <td>34.260000</td>\n",
              "      <td>29.000000</td>\n",
              "      <td>2127.000000</td>\n",
              "      <td>435.000000</td>\n",
              "      <td>1166.000000</td>\n",
              "      <td>409.000000</td>\n",
              "      <td>3.534800</td>\n",
              "      <td>179700.000000</td>\n",
              "    </tr>\n",
              "    <tr>\n",
              "      <th>75%</th>\n",
              "      <td>-118.010000</td>\n",
              "      <td>37.710000</td>\n",
              "      <td>37.000000</td>\n",
              "      <td>3148.000000</td>\n",
              "      <td>647.000000</td>\n",
              "      <td>1725.000000</td>\n",
              "      <td>605.000000</td>\n",
              "      <td>4.743250</td>\n",
              "      <td>264725.000000</td>\n",
              "    </tr>\n",
              "    <tr>\n",
              "      <th>max</th>\n",
              "      <td>-114.310000</td>\n",
              "      <td>41.950000</td>\n",
              "      <td>52.000000</td>\n",
              "      <td>39320.000000</td>\n",
              "      <td>6445.000000</td>\n",
              "      <td>35682.000000</td>\n",
              "      <td>6082.000000</td>\n",
              "      <td>15.000100</td>\n",
              "      <td>500001.000000</td>\n",
              "    </tr>\n",
              "  </tbody>\n",
              "</table>\n",
              "</div>\n",
              "      <button class=\"colab-df-convert\" onclick=\"convertToInteractive('df-8b43add9-f2ab-4606-a31c-08c20702df83')\"\n",
              "              title=\"Convert this dataframe to an interactive table.\"\n",
              "              style=\"display:none;\">\n",
              "        \n",
              "  <svg xmlns=\"http://www.w3.org/2000/svg\" height=\"24px\"viewBox=\"0 0 24 24\"\n",
              "       width=\"24px\">\n",
              "    <path d=\"M0 0h24v24H0V0z\" fill=\"none\"/>\n",
              "    <path d=\"M18.56 5.44l.94 2.06.94-2.06 2.06-.94-2.06-.94-.94-2.06-.94 2.06-2.06.94zm-11 1L8.5 8.5l.94-2.06 2.06-.94-2.06-.94L8.5 2.5l-.94 2.06-2.06.94zm10 10l.94 2.06.94-2.06 2.06-.94-2.06-.94-.94-2.06-.94 2.06-2.06.94z\"/><path d=\"M17.41 7.96l-1.37-1.37c-.4-.4-.92-.59-1.43-.59-.52 0-1.04.2-1.43.59L10.3 9.45l-7.72 7.72c-.78.78-.78 2.05 0 2.83L4 21.41c.39.39.9.59 1.41.59.51 0 1.02-.2 1.41-.59l7.78-7.78 2.81-2.81c.8-.78.8-2.07 0-2.86zM5.41 20L4 18.59l7.72-7.72 1.47 1.35L5.41 20z\"/>\n",
              "  </svg>\n",
              "      </button>\n",
              "      \n",
              "  <style>\n",
              "    .colab-df-container {\n",
              "      display:flex;\n",
              "      flex-wrap:wrap;\n",
              "      gap: 12px;\n",
              "    }\n",
              "\n",
              "    .colab-df-convert {\n",
              "      background-color: #E8F0FE;\n",
              "      border: none;\n",
              "      border-radius: 50%;\n",
              "      cursor: pointer;\n",
              "      display: none;\n",
              "      fill: #1967D2;\n",
              "      height: 32px;\n",
              "      padding: 0 0 0 0;\n",
              "      width: 32px;\n",
              "    }\n",
              "\n",
              "    .colab-df-convert:hover {\n",
              "      background-color: #E2EBFA;\n",
              "      box-shadow: 0px 1px 2px rgba(60, 64, 67, 0.3), 0px 1px 3px 1px rgba(60, 64, 67, 0.15);\n",
              "      fill: #174EA6;\n",
              "    }\n",
              "\n",
              "    [theme=dark] .colab-df-convert {\n",
              "      background-color: #3B4455;\n",
              "      fill: #D2E3FC;\n",
              "    }\n",
              "\n",
              "    [theme=dark] .colab-df-convert:hover {\n",
              "      background-color: #434B5C;\n",
              "      box-shadow: 0px 1px 3px 1px rgba(0, 0, 0, 0.15);\n",
              "      filter: drop-shadow(0px 1px 2px rgba(0, 0, 0, 0.3));\n",
              "      fill: #FFFFFF;\n",
              "    }\n",
              "  </style>\n",
              "\n",
              "      <script>\n",
              "        const buttonEl =\n",
              "          document.querySelector('#df-8b43add9-f2ab-4606-a31c-08c20702df83 button.colab-df-convert');\n",
              "        buttonEl.style.display =\n",
              "          google.colab.kernel.accessAllowed ? 'block' : 'none';\n",
              "\n",
              "        async function convertToInteractive(key) {\n",
              "          const element = document.querySelector('#df-8b43add9-f2ab-4606-a31c-08c20702df83');\n",
              "          const dataTable =\n",
              "            await google.colab.kernel.invokeFunction('convertToInteractive',\n",
              "                                                     [key], {});\n",
              "          if (!dataTable) return;\n",
              "\n",
              "          const docLinkHtml = 'Like what you see? Visit the ' +\n",
              "            '<a target=\"_blank\" href=https://colab.research.google.com/notebooks/data_table.ipynb>data table notebook</a>'\n",
              "            + ' to learn more about interactive tables.';\n",
              "          element.innerHTML = '';\n",
              "          dataTable['output_type'] = 'display_data';\n",
              "          await google.colab.output.renderOutput(dataTable, element);\n",
              "          const docLink = document.createElement('div');\n",
              "          docLink.innerHTML = docLinkHtml;\n",
              "          element.appendChild(docLink);\n",
              "        }\n",
              "      </script>\n",
              "    </div>\n",
              "  </div>\n",
              "  "
            ]
          },
          "metadata": {},
          "execution_count": 39
        }
      ]
    },
    {
      "cell_type": "code",
      "source": [
        "# Visualizing data\n",
        "housing.hist(bins=50, figsize=(20,15))\n",
        "plt.show()"
      ],
      "metadata": {
        "colab": {
          "base_uri": "https://localhost:8080/",
          "height": 882
        },
        "id": "HpXX4RzwyA_f",
        "outputId": "3359787b-60b1-4aff-b500-8224005115b5"
      },
      "execution_count": 40,
      "outputs": [
        {
          "output_type": "display_data",
          "data": {
            "text/plain": [
              "<Figure size 1440x1080 with 9 Axes>"
            ],
            "image/png": "[encoded data removed]"
          },
          "metadata": {
            "needs_background": "light"
          }
        }
      ]
    },
    {
      "cell_type": "markdown",
      "source": [
        "# Creating Test Set"
      ],
      "metadata": {
        "id": "GF7qMgQf3pCA"
      }
    },
    {
      "cell_type": "code",
      "source": [
        "from sklearn.model_selection import train_test_split\n",
        "\n",
        "X, y = train_test_split(housing, test_size=0.2, random_state=42)\n",
        "\n"
      ],
      "metadata": {
        "id": "xoRUmJX5yvGP"
      },
      "execution_count": 41,
      "outputs": []
    },
    {
      "cell_type": "code",
      "source": [
        "# Converitng median income to labels\n",
        "# this is done mainly for doing stratified shuffling, in this case based on income category\n",
        "housing[\"income_cat\"]= pd.cut(housing[\"median_income\"],\n",
        "                              bins=[0.,1.5,3.0,4.5,6.0,np.inf],\n",
        "                              labels=[1,2,3,4,5])\n",
        "housing[\"income_cat\"].hist()"
      ],
      "metadata": {
        "colab": {
          "base_uri": "https://localhost:8080/",
          "height": 285
        },
        "id": "AGNXfaty6kh-",
        "outputId": "ed04cbb4-8585-4fd1-cc2e-02ebfb2a0eba"
      },
      "execution_count": 42,
      "outputs": [
        {
          "output_type": "execute_result",
          "data": {
            "text/plain": [
              "<matplotlib.axes._subplots.AxesSubplot at 0x7fbd58d71610>"
            ]
          },
          "metadata": {},
          "execution_count": 42
        },
        {
          "output_type": "display_data",
          "data": {
            "text/plain": [
              "<Figure size 432x288 with 1 Axes>"
            ],
            "image/png": "[encoded data removed]"
          },
          "metadata": {
            "needs_background": "light"
          }
        }
      ]
    },
    {
      "cell_type": "code",
      "source": [
        "# The following shows how stratefication helps obtain test and train sets \n",
        "#in similar distributions as that of the original dataset\n",
        "#\n",
        "from sklearn.model_selection import StratifiedShuffleSplit\n",
        "split = StratifiedShuffleSplit(n_splits=1, test_size=0.2, random_state=42)\n",
        "for train_index, test_index in split.split(housing, housing[\"income_cat\"]):\n",
        "  strat_train = housing.loc[train_index]\n",
        "  strat_test = housing.loc[test_index]\n",
        "test_dist = strat_test[\"income_cat\"].value_counts()/len(strat_test)\n",
        "print(test_dist)\n",
        "housing[\"income_cat\"].value_counts()/len(housing)"
      ],
      "metadata": {
        "colab": {
          "base_uri": "https://localhost:8080/"
        },
        "id": "UW-bSPaz7URP",
        "outputId": "2dd254ff-187e-4524-d75a-c3a35d234c02"
      },
      "execution_count": 43,
      "outputs": [
        {
          "output_type": "stream",
          "name": "stdout",
          "text": [
            "3    0.350533\n",
            "2    0.318798\n",
            "4    0.176357\n",
            "5    0.114341\n",
            "1    0.039971\n",
            "Name: income_cat, dtype: float64\n"
          ]
        },
        {
          "output_type": "execute_result",
          "data": {
            "text/plain": [
              "3    0.350581\n",
              "2    0.318847\n",
              "4    0.176308\n",
              "5    0.114438\n",
              "1    0.039826\n",
              "Name: income_cat, dtype: float64"
            ]
          },
          "metadata": {},
          "execution_count": 43
        }
      ]
    },
    {
      "cell_type": "code",
      "source": [
        "# Removing the income_cat column\n",
        "strat_train.drop('income_cat', axis=1, inplace=True)\n",
        "strat_test.drop('income_cat', axis=1, inplace=True)"
      ],
      "metadata": {
        "id": "DLp89PNW9xU2"
      },
      "execution_count": 44,
      "outputs": []
    },
    {
      "cell_type": "code",
      "source": [
        "house = strat_train.copy()\n",
        "house.plot(kind=\"scatter\",x=\"longitude\", y=\"latitude\")"
      ],
      "metadata": {
        "colab": {
          "base_uri": "https://localhost:8080/",
          "height": 303
        },
        "id": "OyUKOZMl-H5N",
        "outputId": "eef02647-bb7e-4551-c265-42d791ae2b06"
      },
      "execution_count": 45,
      "outputs": [
        {
          "output_type": "execute_result",
          "data": {
            "text/plain": [
              "<matplotlib.axes._subplots.AxesSubplot at 0x7fbd58b89710>"
            ]
          },
          "metadata": {},
          "execution_count": 45
        },
        {
          "output_type": "display_data",
          "data": {
            "text/plain": [
              "<Figure size 432x288 with 1 Axes>"
            ],
            "image/png": "[encoded data removed]"
          },
          "metadata": {
            "needs_background": "light"
          }
        }
      ]
    },
    {
      "cell_type": "code",
      "source": [
        "house.plot(kind=\"scatter\",x=\"longitude\", y=\"latitude\", alpha=0.1)"
      ],
      "metadata": {
        "colab": {
          "base_uri": "https://localhost:8080/",
          "height": 303
        },
        "id": "buBb_zevEG9n",
        "outputId": "8e616862-7951-4eb7-dc8f-b259775be6f1"
      },
      "execution_count": 46,
      "outputs": [
        {
          "output_type": "execute_result",
          "data": {
            "text/plain": [
              "<matplotlib.axes._subplots.AxesSubplot at 0x7fbd58b68a10>"
            ]
          },
          "metadata": {},
          "execution_count": 46
        },
        {
          "output_type": "display_data",
          "data": {
            "text/plain": [
              "<Figure size 432x288 with 1 Axes>"
            ],
            "image/png": "[encoded data removed]"
          },
          "metadata": {
            "needs_background": "light"
          }
        }
      ]
    },
    {
      "cell_type": "code",
      "source": [
        "house.plot(kind=\"scatter\",x=\"longitude\", y=\"latitude\", alpha=0.4,\n",
        "           s=house[\"population\"]/100, label=\"population\", figsize=(10,7),\n",
        "           c=\"median_house_value\", cmap=plt.get_cmap(\"jet\"), colorbar=True)\n",
        "plt.legend()"
      ],
      "metadata": {
        "colab": {
          "base_uri": "https://localhost:8080/",
          "height": 437
        },
        "id": "XggIYO0BERO0",
        "outputId": "90301049-cd82-4ba0-a791-f1c072a274b3"
      },
      "execution_count": 47,
      "outputs": [
        {
          "output_type": "execute_result",
          "data": {
            "text/plain": [
              "<matplotlib.legend.Legend at 0x7fbd58bdad10>"
            ]
          },
          "metadata": {},
          "execution_count": 47
        },
        {
          "output_type": "display_data",
          "data": {
            "text/plain": [
              "<Figure size 720x504 with 2 Axes>"
            ],
            "image/png": "[encoded data removed]"
          },
          "metadata": {
            "needs_background": "light"
          }
        }
      ]
    },
    {
      "cell_type": "code",
      "source": [
        "corr_matrix = house.corr()\n",
        "corr_matrix"
      ],
      "metadata": {
        "colab": {
          "base_uri": "https://localhost:8080/",
          "height": 332
        },
        "id": "efR7YkExFjun",
        "outputId": "d787637a-4db3-4d73-b04f-537a6aedbf33"
      },
      "execution_count": 48,
      "outputs": [
        {
          "output_type": "execute_result",
          "data": {
            "text/plain": [
              "                    longitude  latitude  housing_median_age  total_rooms  \\\n",
              "longitude            1.000000 -0.924478           -0.105823     0.048909   \n",
              "latitude            -0.924478  1.000000            0.005737    -0.039245   \n",
              "housing_median_age  -0.105823  0.005737            1.000000    -0.364535   \n",
              "total_rooms          0.048909 -0.039245           -0.364535     1.000000   \n",
              "total_bedrooms       0.076686 -0.072550           -0.325101     0.929391   \n",
              "population           0.108071 -0.115290           -0.298737     0.855103   \n",
              "households           0.063146 -0.077765           -0.306473     0.918396   \n",
              "median_income       -0.019615 -0.075146           -0.111315     0.200133   \n",
              "median_house_value  -0.047466 -0.142673            0.114146     0.135140   \n",
              "\n",
              "                    total_bedrooms  population  households  median_income  \\\n",
              "longitude                 0.076686    0.108071    0.063146      -0.019615   \n",
              "latitude                 -0.072550   -0.115290   -0.077765      -0.075146   \n",
              "housing_median_age       -0.325101   -0.298737   -0.306473      -0.111315   \n",
              "total_rooms               0.929391    0.855103    0.918396       0.200133   \n",
              "total_bedrooms            1.000000    0.876324    0.980167      -0.009643   \n",
              "population                0.876324    1.000000    0.904639       0.002421   \n",
              "households                0.980167    0.904639    1.000000       0.010869   \n",
              "median_income            -0.009643    0.002421    0.010869       1.000000   \n",
              "median_house_value        0.047781   -0.026882    0.064590       0.687151   \n",
              "\n",
              "                    median_house_value  \n",
              "longitude                    -0.047466  \n",
              "latitude                     -0.142673  \n",
              "housing_median_age            0.114146  \n",
              "total_rooms                   0.135140  \n",
              "total_bedrooms                0.047781  \n",
              "population                   -0.026882  \n",
              "households                    0.064590  \n",
              "median_income                 0.687151  \n",
              "median_house_value            1.000000  "
            ],
            "text/html": [
              "\n",
              "  <div id=\"df-b48959ec-4cc7-4141-b14a-cc1d13b03fb3\">\n",
              "    <div class=\"colab-df-container\">\n",
              "      <div>\n",
              "<style scoped>\n",
              "    .dataframe tbody tr th:only-of-type {\n",
              "        vertical-align: middle;\n",
              "    }\n",
              "\n",
              "    .dataframe tbody tr th {\n",
              "        vertical-align: top;\n",
              "    }\n",
              "\n",
              "    .dataframe thead th {\n",
              "        text-align: right;\n",
              "    }\n",
              "</style>\n",
              "<table border=\"1\" class=\"dataframe\">\n",
              "  <thead>\n",
              "    <tr style=\"text-align: right;\">\n",
              "      <th></th>\n",
              "      <th>longitude</th>\n",
              "      <th>latitude</th>\n",
              "      <th>housing_median_age</th>\n",
              "      <th>total_rooms</th>\n",
              "      <th>total_bedrooms</th>\n",
              "      <th>population</th>\n",
              "      <th>households</th>\n",
              "      <th>median_income</th>\n",
              "      <th>median_house_value</th>\n",
              "    </tr>\n",
              "  </thead>\n",
              "  <tbody>\n",
              "    <tr>\n",
              "      <th>longitude</th>\n",
              "      <td>1.000000</td>\n",
              "      <td>-0.924478</td>\n",
              "      <td>-0.105823</td>\n",
              "      <td>0.048909</td>\n",
              "      <td>0.076686</td>\n",
              "      <td>0.108071</td>\n",
              "      <td>0.063146</td>\n",
              "      <td>-0.019615</td>\n",
              "      <td>-0.047466</td>\n",
              "    </tr>\n",
              "    <tr>\n",
              "      <th>latitude</th>\n",
              "      <td>-0.924478</td>\n",
              "      <td>1.000000</td>\n",
              "      <td>0.005737</td>\n",
              "      <td>-0.039245</td>\n",
              "      <td>-0.072550</td>\n",
              "      <td>-0.115290</td>\n",
              "      <td>-0.077765</td>\n",
              "      <td>-0.075146</td>\n",
              "      <td>-0.142673</td>\n",
              "    </tr>\n",
              "    <tr>\n",
              "      <th>housing_median_age</th>\n",
              "      <td>-0.105823</td>\n",
              "      <td>0.005737</td>\n",
              "      <td>1.000000</td>\n",
              "      <td>-0.364535</td>\n",
              "      <td>-0.325101</td>\n",
              "      <td>-0.298737</td>\n",
              "      <td>-0.306473</td>\n",
              "      <td>-0.111315</td>\n",
              "      <td>0.114146</td>\n",
              "    </tr>\n",
              "    <tr>\n",
              "      <th>total_rooms</th>\n",
              "      <td>0.048909</td>\n",
              "      <td>-0.039245</td>\n",
              "      <td>-0.364535</td>\n",
              "      <td>1.000000</td>\n",
              "      <td>0.929391</td>\n",
              "      <td>0.855103</td>\n",
              "      <td>0.918396</td>\n",
              "      <td>0.200133</td>\n",
              "      <td>0.135140</td>\n",
              "    </tr>\n",
              "    <tr>\n",
              "      <th>total_bedrooms</th>\n",
              "      <td>0.076686</td>\n",
              "      <td>-0.072550</td>\n",
              "      <td>-0.325101</td>\n",
              "      <td>0.929391</td>\n",
              "      <td>1.000000</td>\n",
              "      <td>0.876324</td>\n",
              "      <td>0.980167</td>\n",
              "      <td>-0.009643</td>\n",
              "      <td>0.047781</td>\n",
              "    </tr>\n",
              "    <tr>\n",
              "      <th>population</th>\n",
              "      <td>0.108071</td>\n",
              "      <td>-0.115290</td>\n",
              "      <td>-0.298737</td>\n",
              "      <td>0.855103</td>\n",
              "      <td>0.876324</td>\n",
              "      <td>1.000000</td>\n",
              "      <td>0.904639</td>\n",
              "      <td>0.002421</td>\n",
              "      <td>-0.026882</td>\n",
              "    </tr>\n",
              "    <tr>\n",
              "      <th>households</th>\n",
              "      <td>0.063146</td>\n",
              "      <td>-0.077765</td>\n",
              "      <td>-0.306473</td>\n",
              "      <td>0.918396</td>\n",
              "      <td>0.980167</td>\n",
              "      <td>0.904639</td>\n",
              "      <td>1.000000</td>\n",
              "      <td>0.010869</td>\n",
              "      <td>0.064590</td>\n",
              "    </tr>\n",
              "    <tr>\n",
              "      <th>median_income</th>\n",
              "      <td>-0.019615</td>\n",
              "      <td>-0.075146</td>\n",
              "      <td>-0.111315</td>\n",
              "      <td>0.200133</td>\n",
              "      <td>-0.009643</td>\n",
              "      <td>0.002421</td>\n",
              "      <td>0.010869</td>\n",
              "      <td>1.000000</td>\n",
              "      <td>0.687151</td>\n",
              "    </tr>\n",
              "    <tr>\n",
              "      <th>median_house_value</th>\n",
              "      <td>-0.047466</td>\n",
              "      <td>-0.142673</td>\n",
              "      <td>0.114146</td>\n",
              "      <td>0.135140</td>\n",
              "      <td>0.047781</td>\n",
              "      <td>-0.026882</td>\n",
              "      <td>0.064590</td>\n",
              "      <td>0.687151</td>\n",
              "      <td>1.000000</td>\n",
              "    </tr>\n",
              "  </tbody>\n",
              "</table>\n",
              "</div>\n",
              "      <button class=\"colab-df-convert\" onclick=\"convertToInteractive('df-b48959ec-4cc7-4141-b14a-cc1d13b03fb3')\"\n",
              "              title=\"Convert this dataframe to an interactive table.\"\n",
              "              style=\"display:none;\">\n",
              "        \n",
              "  <svg xmlns=\"http://www.w3.org/2000/svg\" height=\"24px\"viewBox=\"0 0 24 24\"\n",
              "       width=\"24px\">\n",
              "    <path d=\"M0 0h24v24H0V0z\" fill=\"none\"/>\n",
              "    <path d=\"M18.56 5.44l.94 2.06.94-2.06 2.06-.94-2.06-.94-.94-2.06-.94 2.06-2.06.94zm-11 1L8.5 8.5l.94-2.06 2.06-.94-2.06-.94L8.5 2.5l-.94 2.06-2.06.94zm10 10l.94 2.06.94-2.06 2.06-.94-2.06-.94-.94-2.06-.94 2.06-2.06.94z\"/><path d=\"M17.41 7.96l-1.37-1.37c-.4-.4-.92-.59-1.43-.59-.52 0-1.04.2-1.43.59L10.3 9.45l-7.72 7.72c-.78.78-.78 2.05 0 2.83L4 21.41c.39.39.9.59 1.41.59.51 0 1.02-.2 1.41-.59l7.78-7.78 2.81-2.81c.8-.78.8-2.07 0-2.86zM5.41 20L4 18.59l7.72-7.72 1.47 1.35L5.41 20z\"/>\n",
              "  </svg>\n",
              "      </button>\n",
              "      \n",
              "  <style>\n",
              "    .colab-df-container {\n",
              "      display:flex;\n",
              "      flex-wrap:wrap;\n",
              "      gap: 12px;\n",
              "    }\n",
              "\n",
              "    .colab-df-convert {\n",
              "      background-color: #E8F0FE;\n",
              "      border: none;\n",
              "      border-radius: 50%;\n",
              "      cursor: pointer;\n",
              "      display: none;\n",
              "      fill: #1967D2;\n",
              "      height: 32px;\n",
              "      padding: 0 0 0 0;\n",
              "      width: 32px;\n",
              "    }\n",
              "\n",
              "    .colab-df-convert:hover {\n",
              "      background-color: #E2EBFA;\n",
              "      box-shadow: 0px 1px 2px rgba(60, 64, 67, 0.3), 0px 1px 3px 1px rgba(60, 64, 67, 0.15);\n",
              "      fill: #174EA6;\n",
              "    }\n",
              "\n",
              "    [theme=dark] .colab-df-convert {\n",
              "      background-color: #3B4455;\n",
              "      fill: #D2E3FC;\n",
              "    }\n",
              "\n",
              "    [theme=dark] .colab-df-convert:hover {\n",
              "      background-color: #434B5C;\n",
              "      box-shadow: 0px 1px 3px 1px rgba(0, 0, 0, 0.15);\n",
              "      filter: drop-shadow(0px 1px 2px rgba(0, 0, 0, 0.3));\n",
              "      fill: #FFFFFF;\n",
              "    }\n",
              "  </style>\n",
              "\n",
              "      <script>\n",
              "        const buttonEl =\n",
              "          document.querySelector('#df-b48959ec-4cc7-4141-b14a-cc1d13b03fb3 button.colab-df-convert');\n",
              "        buttonEl.style.display =\n",
              "          google.colab.kernel.accessAllowed ? 'block' : 'none';\n",
              "\n",
              "        async function convertToInteractive(key) {\n",
              "          const element = document.querySelector('#df-b48959ec-4cc7-4141-b14a-cc1d13b03fb3');\n",
              "          const dataTable =\n",
              "            await google.colab.kernel.invokeFunction('convertToInteractive',\n",
              "                                                     [key], {});\n",
              "          if (!dataTable) return;\n",
              "\n",
              "          const docLinkHtml = 'Like what you see? Visit the ' +\n",
              "            '<a target=\"_blank\" href=https://colab.research.google.com/notebooks/data_table.ipynb>data table notebook</a>'\n",
              "            + ' to learn more about interactive tables.';\n",
              "          element.innerHTML = '';\n",
              "          dataTable['output_type'] = 'display_data';\n",
              "          await google.colab.output.renderOutput(dataTable, element);\n",
              "          const docLink = document.createElement('div');\n",
              "          docLink.innerHTML = docLinkHtml;\n",
              "          element.appendChild(docLink);\n",
              "        }\n",
              "      </script>\n",
              "    </div>\n",
              "  </div>\n",
              "  "
            ]
          },
          "metadata": {},
          "execution_count": 48
        }
      ]
    },
    {
      "cell_type": "code",
      "source": [
        "house.plot(kind=\"scatter\",x=\"median_income\", y=\"median_house_value\")"
      ],
      "metadata": {
        "colab": {
          "base_uri": "https://localhost:8080/",
          "height": 303
        },
        "id": "CvRXCGjOGiWk",
        "outputId": "7fcf5331-4e81-4556-c313-0d095ded414a"
      },
      "execution_count": 49,
      "outputs": [
        {
          "output_type": "execute_result",
          "data": {
            "text/plain": [
              "<matplotlib.axes._subplots.AxesSubplot at 0x7fbd58a127d0>"
            ]
          },
          "metadata": {},
          "execution_count": 49
        },
        {
          "output_type": "display_data",
          "data": {
            "text/plain": [
              "<Figure size 432x288 with 1 Axes>"
            ],
            "image/png": "[encoded data removed]"
          },
          "metadata": {
            "needs_background": "light"
          }
        }
      ]
    },
    {
      "cell_type": "code",
      "source": [
        "house[\"rooms_per_household\"] = house[\"total_rooms\"]/house[\"households\"]\n",
        "house[\"bedrooms_per_room\"] = house[\"total_bedrooms\"]/house[\"total_rooms\"]\n",
        "house[\"population_per_household\"]=house[\"population\"]/house[\"households\"]\n",
        "corr_matrix = house.corr()\n",
        "print(corr_matrix[\"median_house_value\"].sort_values(ascending=False))\n",
        "corr_stan = housing.corr()\n",
        "print(corr_stan[\"median_house_value\"].sort_values(ascending=False))"
      ],
      "metadata": {
        "colab": {
          "base_uri": "https://localhost:8080/"
        },
        "id": "hY6PUyMWI7Gf",
        "outputId": "bab32187-c9ad-491b-f8e8-f25a076c43a7"
      },
      "execution_count": 50,
      "outputs": [
        {
          "output_type": "stream",
          "name": "stdout",
          "text": [
            "median_house_value          1.000000\n",
            "median_income               0.687151\n",
            "rooms_per_household         0.146255\n",
            "total_rooms                 0.135140\n",
            "housing_median_age          0.114146\n",
            "households                  0.064590\n",
            "total_bedrooms              0.047781\n",
            "population_per_household   -0.021991\n",
            "population                 -0.026882\n",
            "longitude                  -0.047466\n",
            "latitude                   -0.142673\n",
            "bedrooms_per_room          -0.259952\n",
            "Name: median_house_value, dtype: float64\n",
            "median_house_value    1.000000\n",
            "median_income         0.688075\n",
            "total_rooms           0.134153\n",
            "housing_median_age    0.105623\n",
            "households            0.065843\n",
            "total_bedrooms        0.049686\n",
            "population           -0.024650\n",
            "longitude            -0.045967\n",
            "latitude             -0.144160\n",
            "Name: median_house_value, dtype: float64\n"
          ]
        }
      ]
    },
    {
      "cell_type": "code",
      "source": [
        "# Preparing the data\n",
        "house = strat_train.drop(\"median_house_value\", axis=1)\n",
        "labels = strat_train['median_house_value'].copy()"
      ],
      "metadata": {
        "id": "12was_YDU6Bz"
      },
      "execution_count": 51,
      "outputs": []
    },
    {
      "cell_type": "markdown",
      "source": [
        "## Data Cleaning\n"
      ],
      "metadata": {
        "id": "uwrI46L_c-K-"
      }
    },
    {
      "cell_type": "code",
      "source": [
        "# SimpleImputer\n",
        "from sklearn.impute import SimpleImputer\n",
        "imputer = SimpleImputer(strategy=\"median\")"
      ],
      "metadata": {
        "id": "MtFM1FcccaWw"
      },
      "execution_count": 52,
      "outputs": []
    },
    {
      "cell_type": "code",
      "source": [
        "house_num= house.drop(\"ocean_proximity\", axis=1)\n",
        "imputer.fit(house_num)"
      ],
      "metadata": {
        "id": "bBp_yQSehIPJ",
        "colab": {
          "base_uri": "https://localhost:8080/"
        },
        "outputId": "73f0082d-7eba-4581-a4d4-e9621348d51a"
      },
      "execution_count": 53,
      "outputs": [
        {
          "output_type": "execute_result",
          "data": {
            "text/plain": [
              "SimpleImputer(strategy='median')"
            ]
          },
          "metadata": {},
          "execution_count": 53
        }
      ]
    },
    {
      "cell_type": "code",
      "source": [
        "X1= imputer.transform(house_num)"
      ],
      "metadata": {
        "id": "gC5Vw5-aiHtU"
      },
      "execution_count": 54,
      "outputs": []
    },
    {
      "cell_type": "code",
      "source": [
        "X1= pd.DataFrame(X1)\n",
        "X1.info()"
      ],
      "metadata": {
        "colab": {
          "base_uri": "https://localhost:8080/"
        },
        "id": "44xf4_r730Qv",
        "outputId": "ed5f9b65-bbcd-4e48-b7e8-2b8b4b32b5e2"
      },
      "execution_count": 55,
      "outputs": [
        {
          "output_type": "stream",
          "name": "stdout",
          "text": [
            "<class 'pandas.core.frame.DataFrame'>\n",
            "RangeIndex: 16512 entries, 0 to 16511\n",
            "Data columns (total 8 columns):\n",
            " #   Column  Non-Null Count  Dtype  \n",
            "---  ------  --------------  -----  \n",
            " 0   0       16512 non-null  float64\n",
            " 1   1       16512 non-null  float64\n",
            " 2   2       16512 non-null  float64\n",
            " 3   3       16512 non-null  float64\n",
            " 4   4       16512 non-null  float64\n",
            " 5   5       16512 non-null  float64\n",
            " 6   6       16512 non-null  float64\n",
            " 7   7       16512 non-null  float64\n",
            "dtypes: float64(8)\n",
            "memory usage: 1.0 MB\n"
          ]
        }
      ]
    },
    {
      "cell_type": "code",
      "source": [
        "# Handling text/categorical data\n",
        "house_cat = house[[\"ocean_proximity\"]]\n",
        "house_cat.head()\n",
        "house_cat.shape"
      ],
      "metadata": {
        "colab": {
          "base_uri": "https://localhost:8080/"
        },
        "id": "q3x5tMzk8Ju_",
        "outputId": "eb7d3608-4a50-4f80-9936-d1d165a1e8b8"
      },
      "execution_count": 56,
      "outputs": [
        {
          "output_type": "execute_result",
          "data": {
            "text/plain": [
              "(16512, 1)"
            ]
          },
          "metadata": {},
          "execution_count": 56
        }
      ]
    },
    {
      "cell_type": "code",
      "source": [
        "from sklearn.preprocessing import OrdinalEncoder\n",
        "OE = OrdinalEncoder()\n",
        "house_cat_E = OE.fit_transform(house_cat)\n",
        "house_cat_E[:10]"
      ],
      "metadata": {
        "colab": {
          "base_uri": "https://localhost:8080/"
        },
        "id": "uZhMDpgj-_rQ",
        "outputId": "86fa7a91-0a76-41a2-9f40-772db8a1fbb6"
      },
      "execution_count": 57,
      "outputs": [
        {
          "output_type": "execute_result",
          "data": {
            "text/plain": [
              "array([[1.],\n",
              "       [4.],\n",
              "       [1.],\n",
              "       [4.],\n",
              "       [0.],\n",
              "       [3.],\n",
              "       [0.],\n",
              "       [0.],\n",
              "       [0.],\n",
              "       [0.]])"
            ]
          },
          "metadata": {},
          "execution_count": 57
        }
      ]
    },
    {
      "cell_type": "code",
      "source": [
        "OE.categories_"
      ],
      "metadata": {
        "colab": {
          "base_uri": "https://localhost:8080/"
        },
        "id": "7wqSoOoa_A5d",
        "outputId": "ecb594e8-fd95-4c41-e61f-2e3dfd67a7ad"
      },
      "execution_count": 58,
      "outputs": [
        {
          "output_type": "execute_result",
          "data": {
            "text/plain": [
              "[array(['<1H OCEAN', 'INLAND', 'ISLAND', 'NEAR BAY', 'NEAR OCEAN'],\n",
              "       dtype=object)]"
            ]
          },
          "metadata": {},
          "execution_count": 58
        }
      ]
    },
    {
      "cell_type": "code",
      "source": [
        "# With one hot encoder to not have ordinality\n",
        "from sklearn.preprocessing import OneHotEncoder\n",
        "OHE = OneHotEncoder()\n",
        "house_cat_OHE = OHE.fit_transform(house_cat)\n",
        "house_cat_OHE.toarray()"
      ],
      "metadata": {
        "colab": {
          "base_uri": "https://localhost:8080/"
        },
        "id": "AfcTmpep_zdk",
        "outputId": "1bb93872-d33f-4eb1-8f73-62c227696050"
      },
      "execution_count": 59,
      "outputs": [
        {
          "output_type": "execute_result",
          "data": {
            "text/plain": [
              "array([[0., 1., 0., 0., 0.],\n",
              "       [0., 0., 0., 0., 1.],\n",
              "       [0., 1., 0., 0., 0.],\n",
              "       ...,\n",
              "       [1., 0., 0., 0., 0.],\n",
              "       [1., 0., 0., 0., 0.],\n",
              "       [0., 1., 0., 0., 0.]])"
            ]
          },
          "metadata": {},
          "execution_count": 59
        }
      ]
    },
    {
      "cell_type": "code",
      "source": [
        "OHE.categories_"
      ],
      "metadata": {
        "colab": {
          "base_uri": "https://localhost:8080/"
        },
        "id": "iYuuJn620Rf3",
        "outputId": "2e9a3598-c8b3-4689-d296-6a1ca35078b0"
      },
      "execution_count": 60,
      "outputs": [
        {
          "output_type": "execute_result",
          "data": {
            "text/plain": [
              "[array(['<1H OCEAN', 'INLAND', 'ISLAND', 'NEAR BAY', 'NEAR OCEAN'],\n",
              "       dtype=object)]"
            ]
          },
          "metadata": {},
          "execution_count": 60
        }
      ]
    },
    {
      "cell_type": "markdown",
      "source": [
        "## Custom Transformers"
      ],
      "metadata": {
        "id": "0lGjKuydAKoI"
      }
    },
    {
      "cell_type": "code",
      "source": [
        "from sklearn.base import BaseEstimator, TransformerMixin\n",
        "\n",
        "# column index\n",
        "rooms_ix, bedrooms_ix, population_ix, households_ix = 3, 4, 5, 6\n",
        "\n",
        "class CombinedAttributesAdder(BaseEstimator, TransformerMixin):\n",
        "    def __init__(self, add_bedrooms_per_room=True): # no *args or **kargs\n",
        "        self.add_bedrooms_per_room = add_bedrooms_per_room\n",
        "    def fit(self, X, y=None):\n",
        "        return self  # nothing else to do\n",
        "    def transform(self, X):\n",
        "        rooms_per_household = X[:, rooms_ix] / X[:, households_ix]\n",
        "        population_per_household = X[:, population_ix] / X[:, households_ix]\n",
        "        if self.add_bedrooms_per_room:\n",
        "            bedrooms_per_room = X[:, bedrooms_ix] / X[:, rooms_ix]\n",
        "            return np.c_[X, rooms_per_household, population_per_household,\n",
        "                         bedrooms_per_room]\n",
        "        else:\n",
        "            return np.c_[X, rooms_per_household, population_per_household]\n",
        "\n",
        "attr_adder = CombinedAttributesAdder(add_bedrooms_per_room=False)\n",
        "housing_extra_attribs = attr_adder.transform(housing.values)"
      ],
      "metadata": {
        "id": "8DF8VE-IA23e"
      },
      "execution_count": 61,
      "outputs": []
    },
    {
      "cell_type": "markdown",
      "source": [
        "## Feature Scaling"
      ],
      "metadata": {
        "id": "ibkLbymRMdSx"
      }
    },
    {
      "cell_type": "code",
      "source": [
        "# Min-max scaling and standardiazation are most popular\n",
        "\n",
        "# Min-max scaling is essentially normalization where \n",
        "# for every value, value - min/max-min is done\n",
        "\n",
        "# In Standardization, all values are deducted by mean, and divided by standard deviation"
      ],
      "metadata": {
        "id": "eclXekTYL7fN"
      },
      "execution_count": 62,
      "outputs": []
    },
    {
      "cell_type": "markdown",
      "source": [
        "# Transformation Pipelines"
      ],
      "metadata": {
        "id": "xKenYnGvdnZh"
      }
    },
    {
      "cell_type": "code",
      "source": [
        "from sklearn.pipeline import Pipeline\n",
        "from sklearn.preprocessing import StandardScaler\n",
        "\n",
        "\n",
        "num_pipeline = Pipeline([('imputer', SimpleImputer(strategy=\"median\")),\n",
        "                         ('att_add', CombinedAttributesAdder()),\n",
        "                         ('std_scalar', StandardScaler())])\n",
        "\n",
        "house_num_pip = num_pipeline.fit_transform(house_num)"
      ],
      "metadata": {
        "id": "Zl5X7WUudrLm"
      },
      "execution_count": 63,
      "outputs": []
    },
    {
      "cell_type": "markdown",
      "source": [
        "## Cloumn Transformers\n",
        "Allows for tranforming heterogenous columns"
      ],
      "metadata": {
        "id": "LVX5qzLRhcDv"
      }
    },
    {
      "cell_type": "code",
      "source": [
        "from sklearn.compose import ColumnTransformer\n",
        "num_attrs = list(house_num)\n",
        "cat_attrs = ['ocean_proximity']\n",
        "\n",
        "hetero_pip = ColumnTransformer([('nums', num_pipeline, num_attrs),\n",
        "                                ('cats', OneHotEncoder(), cat_attrs)])\n",
        "house_hetero = hetero_pip.fit_transform(house)"
      ],
      "metadata": {
        "id": "NYrlyqiNiUPF"
      },
      "execution_count": 64,
      "outputs": []
    },
    {
      "cell_type": "code",
      "source": [
        "house_hetero.columns"
      ],
      "metadata": {
        "colab": {
          "base_uri": "https://localhost:8080/",
          "height": 165
        },
        "id": "7i3umoNE9QFA",
        "outputId": "91d0fab0-2eca-4dc7-8dd5-044959a78083"
      },
      "execution_count": 79,
      "outputs": [
        {
          "output_type": "error",
          "ename": "AttributeError",
          "evalue": "ignored",
          "traceback": [
            "\u001b[0;31m---------------------------------------------------------------------------\u001b[0m",
            "\u001b[0;31mAttributeError\u001b[0m                            Traceback (most recent call last)",
            "\u001b[0;32m<ipython-input-79-b794c6a580b3>\u001b[0m in \u001b[0;36m<module>\u001b[0;34m()\u001b[0m\n\u001b[0;32m----> 1\u001b[0;31m \u001b[0mhouse_hetero\u001b[0m\u001b[0;34m.\u001b[0m\u001b[0mcolumns\u001b[0m\u001b[0;34m\u001b[0m\u001b[0;34m\u001b[0m\u001b[0m\n\u001b[0m",
            "\u001b[0;31mAttributeError\u001b[0m: 'numpy.ndarray' object has no attribute 'columns'"
          ]
        }
      ]
    },
    {
      "cell_type": "markdown",
      "source": [
        "# Selecting and Training Models"
      ],
      "metadata": {
        "id": "aK1Glb7jjABg"
      }
    },
    {
      "cell_type": "markdown",
      "source": [
        "## Linear Regression"
      ],
      "metadata": {
        "id": "OMMVDjxDjkGl"
      }
    },
    {
      "cell_type": "code",
      "source": [
        "from sklearn.linear_model import LinearRegression\n",
        "\n",
        "lin_reg = LinearRegression()\n",
        "lin_reg.fit(house_hetero, labels)"
      ],
      "metadata": {
        "colab": {
          "base_uri": "https://localhost:8080/"
        },
        "id": "Zo3YVLrjjz55",
        "outputId": "96085b73-fb1b-4773-b264-df0c2792be3c"
      },
      "execution_count": 65,
      "outputs": [
        {
          "output_type": "execute_result",
          "data": {
            "text/plain": [
              "LinearRegression()"
            ]
          },
          "metadata": {},
          "execution_count": 65
        }
      ]
    },
    {
      "cell_type": "code",
      "source": [
        "some_d = house # in texty, only 5 are used. But that encounters a problem during OHE\n",
        "# print(some_d)\n",
        "some_l = labels\n",
        "some_y_hat = hetero_pip.fit_transform(some_d)\n",
        "lin_reg.predict(some_y_hat)"
      ],
      "metadata": {
        "colab": {
          "base_uri": "https://localhost:8080/"
        },
        "id": "1qDCQHGekt6l",
        "outputId": "a6eb528a-495b-407b-8abe-344b646e42d1"
      },
      "execution_count": 66,
      "outputs": [
        {
          "output_type": "execute_result",
          "data": {
            "text/plain": [
              "array([ 85657.90192014, 305492.60737488, 152056.46122456, ...,\n",
              "       220683.15054463, 238863.55319782,  98197.80203821])"
            ]
          },
          "metadata": {},
          "execution_count": 66
        }
      ]
    },
    {
      "cell_type": "markdown",
      "source": [
        "## Metrics\n"
      ],
      "metadata": {
        "id": "zqvZPDb_3TAv"
      }
    },
    {
      "cell_type": "code",
      "source": [
        "from sklearn.metrics import mean_squared_error\n",
        "predicts = lin_reg.predict(house_hetero)\n",
        "lin_mse = mean_squared_error(labels, predicts)\n",
        "lin_mse, np.sqrt(lin_mse)"
      ],
      "metadata": {
        "colab": {
          "base_uri": "https://localhost:8080/"
        },
        "id": "HkJAaEbT3XXg",
        "outputId": "4aa07fb6-3839-4e6f-8b3a-af379b747ba2"
      },
      "execution_count": 67,
      "outputs": [
        {
          "output_type": "execute_result",
          "data": {
            "text/plain": [
              "(4709785076.060029, 68627.87390018745)"
            ]
          },
          "metadata": {},
          "execution_count": 67
        }
      ]
    },
    {
      "cell_type": "markdown",
      "source": [
        "## Decision Tree Prelude"
      ],
      "metadata": {
        "id": "Mpf-3Q2P7Ai6"
      }
    },
    {
      "cell_type": "code",
      "source": [
        "from sklearn.tree import DecisionTreeRegressor\n",
        "\n",
        "tree_reg = DecisionTreeRegressor()\n",
        "tree_reg.fit(house_hetero, labels)\n"
      ],
      "metadata": {
        "colab": {
          "base_uri": "https://localhost:8080/"
        },
        "id": "vzfzsufa9Qbo",
        "outputId": "e365e380-4dc7-4e32-96a7-ea40f4992be7"
      },
      "execution_count": 68,
      "outputs": [
        {
          "output_type": "execute_result",
          "data": {
            "text/plain": [
              "DecisionTreeRegressor()"
            ]
          },
          "metadata": {},
          "execution_count": 68
        }
      ]
    },
    {
      "cell_type": "code",
      "source": [
        "tree_pred = tree_reg.predict(house_hetero)\n",
        "tree_mse = mean_squared_error(labels, tree_pred)\n",
        "tree_mse, np.sqrt(tree_mse)"
      ],
      "metadata": {
        "colab": {
          "base_uri": "https://localhost:8080/"
        },
        "id": "u8BcQYnaFjVw",
        "outputId": "685503d0-d2c9-4da4-967c-edde2589552c"
      },
      "execution_count": 69,
      "outputs": [
        {
          "output_type": "execute_result",
          "data": {
            "text/plain": [
              "(0.0, 0.0)"
            ]
          },
          "metadata": {},
          "execution_count": 69
        }
      ]
    },
    {
      "cell_type": "markdown",
      "source": [
        "## Cross Validation"
      ],
      "metadata": {
        "id": "Qxh7-LjfIHPy"
      }
    },
    {
      "cell_type": "code",
      "source": [
        "from sklearn.model_selection import cross_val_score\n",
        "scores = cross_val_score(tree_reg, house_hetero, labels, scoring=\"neg_mean_squared_error\", cv=10)\n",
        "tree_rmse_scores = np.sqrt(-scores)\n",
        "\n",
        "np.sqrt(-scores), np.sqrt(-scores).mean(), np.sqrt((-scores)).std()"
      ],
      "metadata": {
        "colab": {
          "base_uri": "https://localhost:8080/"
        },
        "id": "5L_8Jbg-IM7W",
        "outputId": "1ab9edb5-0837-481c-9c5f-76ebfdb54926"
      },
      "execution_count": 70,
      "outputs": [
        {
          "output_type": "execute_result",
          "data": {
            "text/plain": [
              "(array([73046.59216997, 69527.29909999, 68716.50586106, 72684.40339465,\n",
              "        69744.96091492, 76403.42732903, 71592.74187094, 73721.60630301,\n",
              "        68627.75247739, 72693.89065708]), 71675.91800780455, 2384.696078388864)"
            ]
          },
          "metadata": {},
          "execution_count": 70
        }
      ]
    },
    {
      "cell_type": "code",
      "source": [
        "scores_lr = cross_val_score(lin_reg, house_hetero, labels, scoring=\"neg_mean_squared_error\", cv=10)\n",
        "\n",
        "np.sqrt(-scores_lr), np.sqrt(-scores_lr).mean(), np.sqrt(-scores_lr).std()"
      ],
      "metadata": {
        "colab": {
          "base_uri": "https://localhost:8080/"
        },
        "id": "0TZAyGTFUIm5",
        "outputId": "b7593001-914a-41d9-ce6c-8611298622e5"
      },
      "execution_count": 71,
      "outputs": [
        {
          "output_type": "execute_result",
          "data": {
            "text/plain": [
              "(array([71762.76364394, 64114.99166359, 67771.17124356, 68635.19072082,\n",
              "        66846.14089488, 72528.03725385, 73997.08050233, 68802.33629334,\n",
              "        66443.28836884, 70139.79923956]),\n",
              " 69104.07998247063,\n",
              " 2880.3282098180634)"
            ]
          },
          "metadata": {},
          "execution_count": 71
        }
      ]
    },
    {
      "cell_type": "code",
      "source": [
        "from sklearn.ensemble import RandomForestRegressor\n",
        "freg = RandomForestRegressor()\n",
        "score_freg = cross_val_score(freg, house_hetero, labels, scoring='neg_mean_squared_error', cv=10)\n",
        "np.sqrt(-score_freg), np.sqrt(-score_freg).mean(), np.sqrt(-score_freg).std()"
      ],
      "metadata": {
        "colab": {
          "base_uri": "https://localhost:8080/"
        },
        "id": "8rvQdSijWelV",
        "outputId": "6dcc8ea3-c78e-4eb6-cc7f-c7da7836f47b"
      },
      "execution_count": 72,
      "outputs": [
        {
          "output_type": "execute_result",
          "data": {
            "text/plain": [
              "(array([51465.86776369, 48955.8098724 , 47001.05135178, 52043.94440081,\n",
              "        47082.65142975, 52161.59546092, 52504.73063896, 49869.97947958,\n",
              "        48541.82713746, 54118.83401011]),\n",
              " 50374.62915454719,\n",
              " 2314.5646075129694)"
            ]
          },
          "metadata": {},
          "execution_count": 72
        }
      ]
    },
    {
      "cell_type": "markdown",
      "source": [
        "# Fine Tuning the Model"
      ],
      "metadata": {
        "id": "icxiYVnPYFEX"
      }
    },
    {
      "cell_type": "markdown",
      "source": [
        "## Grid Search"
      ],
      "metadata": {
        "id": "JqQ3F9w6YIl4"
      }
    },
    {
      "cell_type": "code",
      "source": [
        "param_grid = [{'n_estimators':[0.01,0.1,1,10,100], 'max_features':[2,4,6,8]},\n",
        "              {'bootstrap':[False],'n_estimators':[0.01,0.1,1,10,100], 'max_features':[2,4,6,8] }]\n",
        "from sklearn.model_selection import GridSearchCV\n",
        "grid_search = GridSearchCV(freg, param_grid, cv=5, scoring='neg_mean_squared_error', return_train_score=True)\n",
        "grid_search.fit(house_hetero, labels)"
      ],
      "metadata": {
        "colab": {
          "base_uri": "https://localhost:8080/"
        },
        "id": "5bU51PCyYJlo",
        "outputId": "44994325-6abf-4676-9a82-df8d933b5573"
      },
      "execution_count": 73,
      "outputs": [
        {
          "output_type": "stream",
          "name": "stderr",
          "text": [
            "/usr/local/lib/python3.7/dist-packages/sklearn/model_selection/_validation.py:372: FitFailedWarning: \n",
            "80 fits failed out of a total of 200.\n",
            "The score on these train-test partitions for these parameters will be set to nan.\n",
            "If these failures are not expected, you can try to debug them by setting error_score='raise'.\n",
            "\n",
            "Below are more details about the failures:\n",
            "--------------------------------------------------------------------------------\n",
            "80 fits failed with the following error:\n",
            "Traceback (most recent call last):\n",
            "  File \"/usr/local/lib/python3.7/dist-packages/sklearn/model_selection/_validation.py\", line 680, in _fit_and_score\n",
            "    estimator.fit(X_train, y_train, **fit_params)\n",
            "  File \"/usr/local/lib/python3.7/dist-packages/sklearn/ensemble/_forest.py\", line 392, in fit\n",
            "    self._validate_estimator()\n",
            "  File \"/usr/local/lib/python3.7/dist-packages/sklearn/ensemble/_base.py\", line 133, in _validate_estimator\n",
            "    type(self.n_estimators)\n",
            "ValueError: n_estimators must be an integer, got <class 'float'>.\n",
            "\n",
            "  warnings.warn(some_fits_failed_message, FitFailedWarning)\n",
            "/usr/local/lib/python3.7/dist-packages/sklearn/model_selection/_search.py:972: UserWarning: One or more of the test scores are non-finite: [            nan             nan -6.97399778e+09 -3.08633951e+09\n",
            " -2.66875503e+09             nan             nan -5.91125550e+09\n",
            " -2.81857093e+09 -2.45531567e+09             nan             nan\n",
            " -5.53702167e+09 -2.68713846e+09 -2.43306899e+09             nan\n",
            "             nan -5.49973540e+09 -2.74385419e+09 -2.43098022e+09\n",
            "             nan             nan -6.44550456e+09 -2.91612448e+09\n",
            " -2.57673236e+09             nan             nan -5.68742953e+09\n",
            " -2.65614863e+09 -2.37836359e+09             nan             nan\n",
            " -5.09736130e+09 -2.62101187e+09 -2.36028206e+09             nan\n",
            "             nan -5.22480958e+09 -2.67997603e+09 -2.39198646e+09]\n",
            "  category=UserWarning,\n",
            "/usr/local/lib/python3.7/dist-packages/sklearn/model_selection/_search.py:972: UserWarning: One or more of the train scores are non-finite: [            nan             nan -2.55821728e+09 -5.77605261e+08\n",
            " -3.78854057e+08             nan             nan -2.25528307e+09\n",
            " -5.27026474e+08 -3.48996517e+08             nan             nan\n",
            " -2.10616490e+09 -5.06507651e+08 -3.41479198e+08             nan\n",
            "             nan -2.07845159e+09 -5.04265037e+08 -3.42312333e+08\n",
            "             nan             nan  0.00000000e+00 -4.82125145e+01\n",
            " -2.33282225e+01             nan             nan -2.67575138e+03\n",
            " -5.93489780e-01 -3.58978106e+00             nan             nan\n",
            "  0.00000000e+00  0.00000000e+00  0.00000000e+00             nan\n",
            "             nan  0.00000000e+00  0.00000000e+00  0.00000000e+00]\n",
            "  category=UserWarning,\n"
          ]
        },
        {
          "output_type": "execute_result",
          "data": {
            "text/plain": [
              "GridSearchCV(cv=5, estimator=RandomForestRegressor(),\n",
              "             param_grid=[{'max_features': [2, 4, 6, 8],\n",
              "                          'n_estimators': [0.01, 0.1, 1, 10, 100]},\n",
              "                         {'bootstrap': [False], 'max_features': [2, 4, 6, 8],\n",
              "                          'n_estimators': [0.01, 0.1, 1, 10, 100]}],\n",
              "             return_train_score=True, scoring='neg_mean_squared_error')"
            ]
          },
          "metadata": {},
          "execution_count": 73
        }
      ]
    },
    {
      "cell_type": "code",
      "source": [
        "grid_search.best_params_, grid_search.best_estimator_"
      ],
      "metadata": {
        "colab": {
          "base_uri": "https://localhost:8080/"
        },
        "id": "fuFwxif0b0ZS",
        "outputId": "225c2357-6c0c-40f4-e4bb-45611dc4ed86"
      },
      "execution_count": 74,
      "outputs": [
        {
          "output_type": "execute_result",
          "data": {
            "text/plain": [
              "({'bootstrap': False, 'max_features': 6, 'n_estimators': 100},\n",
              " RandomForestRegressor(bootstrap=False, max_features=6))"
            ]
          },
          "metadata": {},
          "execution_count": 74
        }
      ]
    },
    {
      "cell_type": "code",
      "source": [
        "cvres = grid_search.cv_results_\n",
        "for mean_score, params in zip(cvres[\"mean_test_score\"], cvres[\"params\"]):\n",
        "  print(np.sqrt(-mean_score), params)"
      ],
      "metadata": {
        "colab": {
          "base_uri": "https://localhost:8080/"
        },
        "id": "4BLTjlVScQYt",
        "outputId": "a336d82b-f073-4f05-a1f4-a856f46eef5b"
      },
      "execution_count": 75,
      "outputs": [
        {
          "output_type": "stream",
          "name": "stdout",
          "text": [
            "nan {'max_features': 2, 'n_estimators': 0.01}\n",
            "nan {'max_features': 2, 'n_estimators': 0.1}\n",
            "83510.46508371238 {'max_features': 2, 'n_estimators': 1}\n",
            "55554.833325760694 {'max_features': 2, 'n_estimators': 10}\n",
            "51659.99448313026 {'max_features': 2, 'n_estimators': 100}\n",
            "nan {'max_features': 4, 'n_estimators': 0.01}\n",
            "nan {'max_features': 4, 'n_estimators': 0.1}\n",
            "76884.68962909623 {'max_features': 4, 'n_estimators': 1}\n",
            "53090.21503929578 {'max_features': 4, 'n_estimators': 10}\n",
            "49551.141960305926 {'max_features': 4, 'n_estimators': 100}\n",
            "nan {'max_features': 6, 'n_estimators': 0.01}\n",
            "nan {'max_features': 6, 'n_estimators': 0.1}\n",
            "74411.16627235248 {'max_features': 6, 'n_estimators': 1}\n",
            "51837.61622694864 {'max_features': 6, 'n_estimators': 10}\n",
            "49326.14911559623 {'max_features': 6, 'n_estimators': 100}\n",
            "nan {'max_features': 8, 'n_estimators': 0.01}\n",
            "nan {'max_features': 8, 'n_estimators': 0.1}\n",
            "74160.20092375038 {'max_features': 8, 'n_estimators': 1}\n",
            "52381.81161345944 {'max_features': 8, 'n_estimators': 10}\n",
            "49304.9715634232 {'max_features': 8, 'n_estimators': 100}\n",
            "nan {'bootstrap': False, 'max_features': 2, 'n_estimators': 0.01}\n",
            "nan {'bootstrap': False, 'max_features': 2, 'n_estimators': 0.1}\n",
            "80283.89974864174 {'bootstrap': False, 'max_features': 2, 'n_estimators': 1}\n",
            "54001.15255192608 {'bootstrap': False, 'max_features': 2, 'n_estimators': 10}\n",
            "50761.524380912415 {'bootstrap': False, 'max_features': 2, 'n_estimators': 100}\n",
            "nan {'bootstrap': False, 'max_features': 4, 'n_estimators': 0.01}\n",
            "nan {'bootstrap': False, 'max_features': 4, 'n_estimators': 0.1}\n",
            "75415.04842812502 {'bootstrap': False, 'max_features': 4, 'n_estimators': 1}\n",
            "51537.83686323353 {'bootstrap': False, 'max_features': 4, 'n_estimators': 10}\n",
            "48768.469194651436 {'bootstrap': False, 'max_features': 4, 'n_estimators': 100}\n",
            "nan {'bootstrap': False, 'max_features': 6, 'n_estimators': 0.01}\n",
            "nan {'bootstrap': False, 'max_features': 6, 'n_estimators': 0.1}\n",
            "71395.80727461675 {'bootstrap': False, 'max_features': 6, 'n_estimators': 1}\n",
            "51195.818860928004 {'bootstrap': False, 'max_features': 6, 'n_estimators': 10}\n",
            "48582.73421912019 {'bootstrap': False, 'max_features': 6, 'n_estimators': 100}\n",
            "nan {'bootstrap': False, 'max_features': 8, 'n_estimators': 0.01}\n",
            "nan {'bootstrap': False, 'max_features': 8, 'n_estimators': 0.1}\n",
            "72282.84432099009 {'bootstrap': False, 'max_features': 8, 'n_estimators': 1}\n",
            "51768.484936847606 {'bootstrap': False, 'max_features': 8, 'n_estimators': 10}\n",
            "48907.93864367764 {'bootstrap': False, 'max_features': 8, 'n_estimators': 100}\n"
          ]
        }
      ]
    },
    {
      "cell_type": "markdown",
      "source": [
        "## Randomized Search"
      ],
      "metadata": {
        "id": "IH8XhzQTc6Kj"
      }
    },
    {
      "cell_type": "code",
      "source": [
        "# Instead of manually providing parameters, randomized search randomly sets hyperparameters \n",
        "# for the given number of iterations"
      ],
      "metadata": {
        "id": "UxX3v53Uc9AJ"
      },
      "execution_count": 76,
      "outputs": []
    },
    {
      "cell_type": "code",
      "source": [
        "feature_importance = grid_search.best_estimator_.feature_importances_\n",
        "cat_encoder = hetero_pip.named_transformers_[\"cats\"]\n",
        "cat_OHE = list(cat_encoder.categories_[0])\n",
        "attributes = num_attrs + [\"rooms_per_household\", \"pop_per_household\", \"bedrooms_per_household\"] + cat_OHE\n",
        "sorted(zip(feature_importance, attributes), reverse=True)"
      ],
      "metadata": {
        "colab": {
          "base_uri": "https://localhost:8080/"
        },
        "id": "LMERjqeidQFe",
        "outputId": "24795270-6b38-46a0-8bf8-a99aca7d0404"
      },
      "execution_count": 77,
      "outputs": [
        {
          "output_type": "execute_result",
          "data": {
            "text/plain": [
              "[(0.33305997033124846, 'median_income'),\n",
              " (0.15732804681027468, 'INLAND'),\n",
              " (0.10861479546406655, 'pop_per_household'),\n",
              " (0.07773559378227357, 'longitude'),\n",
              " (0.07197958413636645, 'latitude'),\n",
              " (0.07022749321519911, 'bedrooms_per_household'),\n",
              " (0.0569598917850314, 'rooms_per_household'),\n",
              " (0.04268734279143818, 'housing_median_age'),\n",
              " (0.016695334163441856, 'population'),\n",
              " (0.016683593852209345, 'total_rooms'),\n",
              " (0.015966793771448457, 'total_bedrooms'),\n",
              " (0.01584008165444819, 'households'),\n",
              " (0.009719406095043084, '<1H OCEAN'),\n",
              " (0.003751368457670068, 'NEAR OCEAN'),\n",
              " (0.002691180758970325, 'NEAR BAY'),\n",
              " (5.9522930870251056e-05, 'ISLAND')]"
            ]
          },
          "metadata": {},
          "execution_count": 77
        }
      ]
    },
    {
      "cell_type": "markdown",
      "source": [
        "# Evaluating the Model on Test Set"
      ],
      "metadata": {
        "id": "VCk_itjWgprc"
      }
    },
    {
      "cell_type": "code",
      "source": [
        "final_model = grid_search.best_estimator_\n",
        "X_test = strat_test.drop(\"median_house_value\", axis=1)\n",
        "y_test = strat_test[\"median_house_value\"].copy()\n",
        "\n",
        "X_test_predict = final_model.predict(hetero_pip.transform(X_test))\n",
        "\n",
        "final_mse = mean_squared_error(y_test, X_test_predict)\n",
        "print(np.sqrt(final_mse))"
      ],
      "metadata": {
        "colab": {
          "base_uri": "https://localhost:8080/"
        },
        "id": "n7gFJH_Hgsei",
        "outputId": "1069729a-56a6-4786-a55a-e28597f3e3a1"
      },
      "execution_count": 78,
      "outputs": [
        {
          "output_type": "stream",
          "name": "stdout",
          "text": [
            "46368.011839249004\n"
          ]
        }
      ]
    }
  ]
}
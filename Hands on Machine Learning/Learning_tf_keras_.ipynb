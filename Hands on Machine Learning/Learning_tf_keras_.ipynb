{
  "nbformat": 4,
  "nbformat_minor": 0,
  "metadata": {
    "colab": {
      "provenance": []
    },
    "kernelspec": {
      "name": "python3",
      "display_name": "Python 3"
    },
    "language_info": {
      "name": "python"
    }
  },
  "cells": [
    {
      "cell_type": "code",
      "execution_count": null,
      "metadata": {
        "id": "XG2q5pwiI3PI"
      },
      "outputs": [],
      "source": [
        "# !pip install tensorflow"
      ]
    },
    {
      "cell_type": "code",
      "source": [
        "import tensorflow as tf\n",
        "from tensorflow import keras\n",
        "tf.__version__, keras.__version__"
      ],
      "metadata": {
        "colab": {
          "base_uri": "https://localhost:8080/"
        },
        "id": "QgcVmblvJYiV",
        "outputId": "a615920c-ddb1-4c9f-b53a-7575428b9bee"
      },
      "execution_count": null,
      "outputs": [
        {
          "output_type": "execute_result",
          "data": {
            "text/plain": [
              "('2.8.2', '2.8.0')"
            ]
          },
          "metadata": {},
          "execution_count": 2
        }
      ]
    },
    {
      "cell_type": "code",
      "source": [
        "fashion_mnist = keras.datasets.fashion_mnist\n",
        "(xtrain, ytrain), (xtest, ytest) = fashion_mnist.load_data()"
      ],
      "metadata": {
        "colab": {
          "base_uri": "https://localhost:8080/"
        },
        "id": "LnE5pfhsLcff",
        "outputId": "54b5f4ac-b145-49e5-d7dd-fd5f2a896323"
      },
      "execution_count": null,
      "outputs": [
        {
          "output_type": "stream",
          "name": "stdout",
          "text": [
            "Downloading data from https://storage.googleapis.com/tensorflow/tf-keras-datasets/train-labels-idx1-ubyte.gz\n",
            "32768/29515 [=================================] - 0s 0us/step\n",
            "40960/29515 [=========================================] - 0s 0us/step\n",
            "Downloading data from https://storage.googleapis.com/tensorflow/tf-keras-datasets/train-images-idx3-ubyte.gz\n",
            "26427392/26421880 [==============================] - 0s 0us/step\n",
            "26435584/26421880 [==============================] - 0s 0us/step\n",
            "Downloading data from https://storage.googleapis.com/tensorflow/tf-keras-datasets/t10k-labels-idx1-ubyte.gz\n",
            "16384/5148 [===============================================================================================] - 0s 0us/step\n",
            "Downloading data from https://storage.googleapis.com/tensorflow/tf-keras-datasets/t10k-images-idx3-ubyte.gz\n",
            "4423680/4422102 [==============================] - 0s 0us/step\n",
            "4431872/4422102 [==============================] - 0s 0us/step\n"
          ]
        }
      ]
    },
    {
      "cell_type": "code",
      "source": [
        "cfar = keras.datasets.cifar10\n",
        "(xtrain, ytrain), (xtest, ytest) = cfar.load_data()"
      ],
      "metadata": {
        "colab": {
          "base_uri": "https://localhost:8080/"
        },
        "id": "Xma6bghPLjUe",
        "outputId": "708cfe43-d109-4876-a9fa-674f8778406c"
      },
      "execution_count": null,
      "outputs": [
        {
          "output_type": "stream",
          "name": "stdout",
          "text": [
            "Downloading data from https://www.cs.toronto.edu/~kriz/cifar-10-python.tar.gz\n",
            "170500096/170498071 [==============================] - 6s 0us/step\n",
            "170508288/170498071 [==============================] - 6s 0us/step\n"
          ]
        }
      ]
    },
    {
      "cell_type": "code",
      "source": [
        "xtrain.shape"
      ],
      "metadata": {
        "colab": {
          "base_uri": "https://localhost:8080/"
        },
        "id": "yGRIpdcBMy6B",
        "outputId": "b60c670a-91c5-4404-ea22-fb3697625dd6"
      },
      "execution_count": null,
      "outputs": [
        {
          "output_type": "execute_result",
          "data": {
            "text/plain": [
              "(50000, 32, 32, 3)"
            ]
          },
          "metadata": {},
          "execution_count": 5
        }
      ]
    },
    {
      "cell_type": "code",
      "source": [
        "xvalid, xtrain = xtrain[:5000]/255.0, xtrain[5000:]/255.0\n",
        "yvalid, ytrain = ytrain[:5000], ytrain[5000:]"
      ],
      "metadata": {
        "id": "aV0cKhxdMQxm"
      },
      "execution_count": null,
      "outputs": []
    },
    {
      "cell_type": "code",
      "source": [
        "import numpy as np\n",
        "import pandas as pd\n",
        "import matplotlib.pyplot as plt\n"
      ],
      "metadata": {
        "id": "ArwqdyeVNtG_"
      },
      "execution_count": null,
      "outputs": []
    },
    {
      "cell_type": "code",
      "source": [
        "np.unique(ytrain, return_counts=True)"
      ],
      "metadata": {
        "colab": {
          "base_uri": "https://localhost:8080/"
        },
        "id": "CdsUKx9QNZwS",
        "outputId": "47b21b20-aa6e-4a8c-b513-449ecc076105"
      },
      "execution_count": null,
      "outputs": [
        {
          "output_type": "execute_result",
          "data": {
            "text/plain": [
              "(array([0, 1, 2, 3, 4, 5, 6, 7, 8, 9], dtype=uint8),\n",
              " array([4495, 4540, 4481, 4514, 4481, 4512, 4481, 4514, 4480, 4502]))"
            ]
          },
          "metadata": {},
          "execution_count": 8
        }
      ]
    },
    {
      "cell_type": "code",
      "source": [
        "class_name = {0:\t'airplane',\n",
        "1:\t'automobile',\n",
        "2\t:'bird',\n",
        "3:\t'cat',\n",
        "4\t:'deer',\n",
        "5:\t'dog',\n",
        "6\t:'frog',\n",
        "7\t:'horse',\n",
        "8\t:'ship',\n",
        "9:\t'truck'}"
      ],
      "metadata": {
        "id": "oBVSIXVcN0ny"
      },
      "execution_count": null,
      "outputs": []
    },
    {
      "cell_type": "code",
      "source": [
        "xtrain[0].shape"
      ],
      "metadata": {
        "colab": {
          "base_uri": "https://localhost:8080/"
        },
        "id": "vwUXnf-VQtOS",
        "outputId": "b0c08f58-13ea-43fe-8519-a8f687b85e34"
      },
      "execution_count": null,
      "outputs": [
        {
          "output_type": "execute_result",
          "data": {
            "text/plain": [
              "(32, 32, 3)"
            ]
          },
          "metadata": {},
          "execution_count": 10
        }
      ]
    },
    {
      "cell_type": "code",
      "source": [
        "fig, axes1 = plt.subplots(5,5,figsize=(15,15))\n",
        "for j in range(5):\n",
        "    for k in range(5):\n",
        "        i = np.random.choice(range(len(xtrain)))\n",
        "        axes1[j][k].set_axis_off()\n",
        "        axes1[j][k].imshow(xtrain[i:i+1][0])"
      ],
      "metadata": {
        "id": "V3wmBUZ6Oxrz",
        "colab": {
          "base_uri": "https://localhost:8080/",
          "height": 846
        },
        "outputId": "4b92b74c-9e09-4a81-c22f-ea2079cb957e"
      },
      "execution_count": null,
      "outputs": [
        {
          "output_type": "display_data",
          "data": {
            "text/plain": [
              "<Figure size 1080x1080 with 25 Axes>"
            ],
            "image/png": "[encoded data removed]"
          },
          "metadata": {
            "needs_background": "light"
          }
        }
      ]
    },
    {
      "cell_type": "code",
      "source": [
        "model = keras.models.Sequential()\n",
        "model.add(keras.layers.Flatten(input_shape=[32, 32, 3]))\n",
        "model.add(keras.layers.Dense(300, activation=\"relu\"))\n",
        "model.add(keras.layers.Dense(100, activation=\"relu\"))\n",
        "model.add(keras.layers.Dense(10, activation=\"softmax\"))"
      ],
      "metadata": {
        "id": "xXBpclBrPYc2"
      },
      "execution_count": null,
      "outputs": []
    },
    {
      "cell_type": "code",
      "source": [
        "model.summary()"
      ],
      "metadata": {
        "colab": {
          "base_uri": "https://localhost:8080/"
        },
        "id": "iUw2Mba7SH0K",
        "outputId": "6b34b65f-570a-4538-85c1-c67bbdc87a1a"
      },
      "execution_count": null,
      "outputs": [
        {
          "output_type": "stream",
          "name": "stdout",
          "text": [
            "Model: \"sequential\"\n",
            "_________________________________________________________________\n",
            " Layer (type)                Output Shape              Param #   \n",
            "=================================================================\n",
            " flatten (Flatten)           (None, 3072)              0         \n",
            "                                                                 \n",
            " dense (Dense)               (None, 300)               921900    \n",
            "                                                                 \n",
            " dense_1 (Dense)             (None, 100)               30100     \n",
            "                                                                 \n",
            " dense_2 (Dense)             (None, 10)                1010      \n",
            "                                                                 \n",
            "=================================================================\n",
            "Total params: 953,010\n",
            "Trainable params: 953,010\n",
            "Non-trainable params: 0\n",
            "_________________________________________________________________\n"
          ]
        }
      ]
    },
    {
      "cell_type": "code",
      "source": [
        " hidden1 = model.layers[1]\n",
        " weights, biases = hidden1.get_weights()\n",
        " weights.shape, biases.shape"
      ],
      "metadata": {
        "colab": {
          "base_uri": "https://localhost:8080/"
        },
        "id": "zcSvU9zhSNZ3",
        "outputId": "eb8b76c9-dc90-41a0-95b8-fd7ffb54fc34"
      },
      "execution_count": null,
      "outputs": [
        {
          "output_type": "execute_result",
          "data": {
            "text/plain": [
              "((3072, 300), (300,))"
            ]
          },
          "metadata": {},
          "execution_count": 14
        }
      ]
    },
    {
      "cell_type": "code",
      "source": [
        "model.compile(loss=\"sparse_categorical_crossentropy\", optimizer=\"sgd\", metrics=[\"accuracy\"])\n",
        "\n"
      ],
      "metadata": {
        "id": "VUfDliTNTKxz"
      },
      "execution_count": null,
      "outputs": []
    },
    {
      "cell_type": "code",
      "source": [
        "history = model.fit(xtrain, ytrain, epochs=30, validation_data=(xvalid, yvalid))"
      ],
      "metadata": {
        "colab": {
          "base_uri": "https://localhost:8080/"
        },
        "id": "rZIN78_gRosD",
        "outputId": "ae72337b-e5d5-4742-b356-089f335e4815"
      },
      "execution_count": null,
      "outputs": [
        {
          "output_type": "stream",
          "name": "stdout",
          "text": [
            "Epoch 1/30\n",
            "1407/1407 [==============================] - 9s 6ms/step - loss: 1.8895 - accuracy: 0.3231 - val_loss: 1.9152 - val_accuracy: 0.2948\n",
            "Epoch 2/30\n",
            "1407/1407 [==============================] - 9s 6ms/step - loss: 1.7061 - accuracy: 0.3941 - val_loss: 1.7930 - val_accuracy: 0.3596\n",
            "Epoch 3/30\n",
            "1407/1407 [==============================] - 9s 6ms/step - loss: 1.6274 - accuracy: 0.4241 - val_loss: 1.5938 - val_accuracy: 0.4356\n",
            "Epoch 4/30\n",
            "1407/1407 [==============================] - 8s 6ms/step - loss: 1.5684 - accuracy: 0.4442 - val_loss: 1.8531 - val_accuracy: 0.3348\n",
            "Epoch 5/30\n",
            "1407/1407 [==============================] - 8s 6ms/step - loss: 1.5220 - accuracy: 0.4592 - val_loss: 1.5967 - val_accuracy: 0.4220\n",
            "Epoch 6/30\n",
            "1407/1407 [==============================] - 8s 6ms/step - loss: 1.4894 - accuracy: 0.4722 - val_loss: 1.6319 - val_accuracy: 0.4220\n",
            "Epoch 7/30\n",
            "1407/1407 [==============================] - 9s 7ms/step - loss: 1.4561 - accuracy: 0.4824 - val_loss: 1.5471 - val_accuracy: 0.4460\n",
            "Epoch 8/30\n",
            "1407/1407 [==============================] - 8s 6ms/step - loss: 1.4259 - accuracy: 0.4956 - val_loss: 1.6951 - val_accuracy: 0.4094\n",
            "Epoch 9/30\n",
            "1407/1407 [==============================] - 9s 6ms/step - loss: 1.4004 - accuracy: 0.5049 - val_loss: 1.4913 - val_accuracy: 0.4732\n",
            "Epoch 10/30\n",
            "1407/1407 [==============================] - 8s 6ms/step - loss: 1.3765 - accuracy: 0.5113 - val_loss: 1.4971 - val_accuracy: 0.4644\n",
            "Epoch 11/30\n",
            "1407/1407 [==============================] - 8s 6ms/step - loss: 1.3524 - accuracy: 0.5223 - val_loss: 1.4834 - val_accuracy: 0.4734\n",
            "Epoch 12/30\n",
            "1407/1407 [==============================] - 8s 6ms/step - loss: 1.3317 - accuracy: 0.5279 - val_loss: 1.5699 - val_accuracy: 0.4540\n",
            "Epoch 13/30\n",
            "1407/1407 [==============================] - 8s 6ms/step - loss: 1.3109 - accuracy: 0.5355 - val_loss: 1.4405 - val_accuracy: 0.4932\n",
            "Epoch 14/30\n",
            "1407/1407 [==============================] - 8s 6ms/step - loss: 1.2922 - accuracy: 0.5422 - val_loss: 1.4958 - val_accuracy: 0.4648\n",
            "Epoch 15/30\n",
            "1407/1407 [==============================] - 8s 6ms/step - loss: 1.2758 - accuracy: 0.5496 - val_loss: 1.5008 - val_accuracy: 0.4630\n",
            "Epoch 16/30\n",
            "1407/1407 [==============================] - 8s 6ms/step - loss: 1.2574 - accuracy: 0.5550 - val_loss: 1.4164 - val_accuracy: 0.5044\n",
            "Epoch 17/30\n",
            "1407/1407 [==============================] - 8s 6ms/step - loss: 1.2389 - accuracy: 0.5616 - val_loss: 1.3803 - val_accuracy: 0.5158\n",
            "Epoch 18/30\n",
            "1407/1407 [==============================] - 8s 6ms/step - loss: 1.2234 - accuracy: 0.5691 - val_loss: 1.9140 - val_accuracy: 0.4004\n",
            "Epoch 19/30\n",
            "1407/1407 [==============================] - 9s 6ms/step - loss: 1.2083 - accuracy: 0.5749 - val_loss: 1.5217 - val_accuracy: 0.4728\n",
            "Epoch 20/30\n",
            "1407/1407 [==============================] - 8s 6ms/step - loss: 1.1904 - accuracy: 0.5786 - val_loss: 1.4805 - val_accuracy: 0.4844\n",
            "Epoch 21/30\n",
            "1407/1407 [==============================] - 8s 6ms/step - loss: 1.1748 - accuracy: 0.5825 - val_loss: 1.5774 - val_accuracy: 0.4690\n",
            "Epoch 22/30\n",
            "1407/1407 [==============================] - 9s 6ms/step - loss: 1.1631 - accuracy: 0.5893 - val_loss: 1.3730 - val_accuracy: 0.5216\n",
            "Epoch 23/30\n",
            "1407/1407 [==============================] - 9s 6ms/step - loss: 1.1521 - accuracy: 0.5908 - val_loss: 1.4056 - val_accuracy: 0.5138\n",
            "Epoch 24/30\n",
            "1407/1407 [==============================] - 8s 6ms/step - loss: 1.1334 - accuracy: 0.6006 - val_loss: 1.5299 - val_accuracy: 0.4758\n",
            "Epoch 25/30\n",
            "1407/1407 [==============================] - 8s 6ms/step - loss: 1.1196 - accuracy: 0.6058 - val_loss: 1.4676 - val_accuracy: 0.4940\n",
            "Epoch 26/30\n",
            "1407/1407 [==============================] - 9s 6ms/step - loss: 1.1072 - accuracy: 0.6096 - val_loss: 1.4529 - val_accuracy: 0.5018\n",
            "Epoch 27/30\n",
            "1407/1407 [==============================] - 8s 6ms/step - loss: 1.0921 - accuracy: 0.6130 - val_loss: 1.6386 - val_accuracy: 0.4626\n",
            "Epoch 28/30\n",
            "1407/1407 [==============================] - 9s 6ms/step - loss: 1.0767 - accuracy: 0.6204 - val_loss: 1.7043 - val_accuracy: 0.4442\n",
            "Epoch 29/30\n",
            "1407/1407 [==============================] - 8s 6ms/step - loss: 1.0669 - accuracy: 0.6232 - val_loss: 1.4309 - val_accuracy: 0.5140\n",
            "Epoch 30/30\n",
            "1407/1407 [==============================] - 8s 6ms/step - loss: 1.0480 - accuracy: 0.6305 - val_loss: 1.5512 - val_accuracy: 0.4824\n"
          ]
        }
      ]
    },
    {
      "cell_type": "code",
      "source": [
        "pd.DataFrame(history.history).plot(figsize=(8, 5))\n",
        "plt.grid(True)\n",
        "plt.gca().set_ylim(0, 1) # set the vertical range to [0-1]\n",
        "plt.show()\n"
      ],
      "metadata": {
        "colab": {
          "base_uri": "https://localhost:8080/",
          "height": 324
        },
        "id": "vP1fW4tlha37",
        "outputId": "608c1556-9701-4ab6-a52e-c8089fa8f084"
      },
      "execution_count": null,
      "outputs": [
        {
          "output_type": "display_data",
          "data": {
            "text/plain": [
              "<Figure size 576x360 with 1 Axes>"
            ],
            "image/png": "[encoded data removed]"
          },
          "metadata": {
            "needs_background": "light"
          }
        }
      ]
    },
    {
      "cell_type": "code",
      "source": [
        "model.evaluate(xtest, ytest)"
      ],
      "metadata": {
        "colab": {
          "base_uri": "https://localhost:8080/"
        },
        "id": "ABB1OOoricMx",
        "outputId": "4cd3bbf6-56f1-42da-c3b4-a32c91cf3340"
      },
      "execution_count": null,
      "outputs": [
        {
          "output_type": "stream",
          "name": "stdout",
          "text": [
            "313/313 [==============================] - 1s 3ms/step - loss: 403.8497 - accuracy: 0.3911\n"
          ]
        },
        {
          "output_type": "execute_result",
          "data": {
            "text/plain": [
              "[403.8497009277344, 0.3910999894142151]"
            ]
          },
          "metadata": {},
          "execution_count": 18
        }
      ]
    },
    {
      "cell_type": "markdown",
      "source": [
        "# Regression"
      ],
      "metadata": {
        "id": "2W5sXSGjjbEt"
      }
    },
    {
      "cell_type": "code",
      "source": [
        "import sklearn as sk\n",
        "from sklearn.datasets import fetch_california_housing\n",
        "from sklearn.model_selection import train_test_split\n",
        "from sklearn.preprocessing import StandardScaler\n",
        "housing = fetch_california_housing()\n",
        "\n",
        "htrain, htest, hytrain, hytest = train_test_split(housing.data, housing.target)\n",
        "htrain, hvalid, hytrain, hyvalid = train_test_split(htrain, hytrain)\n",
        "\n",
        "scaler = StandardScaler()\n",
        "htrain = scaler.fit_transform(htrain)\n",
        "hvalid = scaler.transform(hvalid)\n",
        "htest = scaler.transform(htest)"
      ],
      "metadata": {
        "id": "QIEP371TjeKg"
      },
      "execution_count": null,
      "outputs": []
    },
    {
      "cell_type": "code",
      "source": [
        "rmodel = keras.models.Sequential([\n",
        "keras.layers.Dense(30, activation=\"relu\", input_shape=htrain.shape[1:]),\n",
        "keras.layers.Dense(1)\n",
        "])\n",
        "rmodel.compile(loss=\"mean_squared_error\", optimizer=\"sgd\")\n",
        "history = rmodel.fit(htrain, hytrain, epochs=20,\n",
        "validation_data=(hvalid, hyvalid))\n"
      ],
      "metadata": {
        "colab": {
          "base_uri": "https://localhost:8080/"
        },
        "id": "UmJrpQ8ykVVq",
        "outputId": "68b0612c-7339-4d9c-f35a-d25f61fb340a"
      },
      "execution_count": null,
      "outputs": [
        {
          "output_type": "stream",
          "name": "stdout",
          "text": [
            "Epoch 1/20\n",
            "363/363 [==============================] - 1s 2ms/step - loss: 1.0204 - val_loss: 0.5918\n",
            "Epoch 2/20\n",
            "363/363 [==============================] - 0s 1ms/step - loss: 0.5192 - val_loss: 0.5080\n",
            "Epoch 3/20\n",
            "363/363 [==============================] - 0s 1ms/step - loss: 0.4808 - val_loss: 0.4938\n",
            "Epoch 4/20\n",
            "363/363 [==============================] - 0s 1ms/step - loss: 0.4670 - val_loss: 0.4766\n",
            "Epoch 5/20\n",
            "363/363 [==============================] - 1s 1ms/step - loss: 0.4507 - val_loss: 0.4591\n",
            "Epoch 6/20\n",
            "363/363 [==============================] - 0s 1ms/step - loss: 0.4400 - val_loss: 0.4476\n",
            "Epoch 7/20\n",
            "363/363 [==============================] - 0s 1ms/step - loss: 0.4326 - val_loss: 0.5272\n",
            "Epoch 8/20\n",
            "363/363 [==============================] - 0s 1ms/step - loss: 0.4284 - val_loss: 0.4360\n",
            "Epoch 9/20\n",
            "363/363 [==============================] - 0s 1ms/step - loss: 0.4204 - val_loss: 0.4280\n",
            "Epoch 10/20\n",
            "363/363 [==============================] - 0s 1ms/step - loss: 0.4287 - val_loss: 0.4478\n",
            "Epoch 11/20\n",
            "363/363 [==============================] - 0s 1ms/step - loss: 0.4173 - val_loss: 0.4291\n",
            "Epoch 12/20\n",
            "363/363 [==============================] - 1s 1ms/step - loss: 0.4097 - val_loss: 0.4129\n",
            "Epoch 13/20\n",
            "363/363 [==============================] - 0s 1ms/step - loss: 0.4020 - val_loss: 0.4068\n",
            "Epoch 14/20\n",
            "363/363 [==============================] - 1s 1ms/step - loss: 0.4004 - val_loss: 0.4101\n",
            "Epoch 15/20\n",
            "363/363 [==============================] - 0s 1ms/step - loss: 0.3992 - val_loss: 0.4007\n",
            "Epoch 16/20\n",
            "363/363 [==============================] - 1s 1ms/step - loss: 0.3935 - val_loss: 0.4015\n",
            "Epoch 17/20\n",
            "363/363 [==============================] - 0s 1ms/step - loss: 0.3855 - val_loss: 0.3993\n",
            "Epoch 18/20\n",
            "363/363 [==============================] - 1s 1ms/step - loss: 0.3900 - val_loss: 0.3902\n",
            "Epoch 19/20\n",
            "363/363 [==============================] - 0s 1ms/step - loss: 0.3805 - val_loss: 0.4290\n",
            "Epoch 20/20\n",
            "363/363 [==============================] - 0s 1ms/step - loss: 0.3870 - val_loss: 0.3903\n"
          ]
        }
      ]
    },
    {
      "cell_type": "code",
      "source": [
        "mse_test = rmodel.evaluate(htest, hytest)\n"
      ],
      "metadata": {
        "colab": {
          "base_uri": "https://localhost:8080/"
        },
        "id": "aTrvl3BLnJrN",
        "outputId": "ac396504-5209-4b24-a902-644e380eb943"
      },
      "execution_count": null,
      "outputs": [
        {
          "output_type": "stream",
          "name": "stdout",
          "text": [
            "162/162 [==============================] - 0s 887us/step - loss: 0.4019\n"
          ]
        }
      ]
    },
    {
      "cell_type": "code",
      "source": [
        "hpred = rmodel.predict(htest)\n",
        "hpred"
      ],
      "metadata": {
        "colab": {
          "base_uri": "https://localhost:8080/"
        },
        "id": "uTmY8lECnOh2",
        "outputId": "c964f5c1-90c5-4d56-d27a-c122eff662f8"
      },
      "execution_count": null,
      "outputs": [
        {
          "output_type": "execute_result",
          "data": {
            "text/plain": [
              "array([[1.0312779],\n",
              "       [2.2226822],\n",
              "       [1.0493907],\n",
              "       ...,\n",
              "       [2.4258327],\n",
              "       [0.5569757],\n",
              "       [1.8134044]], dtype=float32)"
            ]
          },
          "metadata": {},
          "execution_count": 22
        }
      ]
    },
    {
      "cell_type": "markdown",
      "source": [
        "## Functional API"
      ],
      "metadata": {
        "id": "HK03mMhAnhLl"
      }
    },
    {
      "cell_type": "code",
      "source": [
        "input_ = keras.layers.Input(shape=htrain.shape[1:])\n",
        "hidden1 = keras.layers.Dense(30, activation=\"relu\")(input_)\n",
        "hidden2 = keras.layers.Dense(30, activation=\"relu\")(hidden1)\n",
        "concat = keras.layers.Concatenate()([input_, hidden2])\n",
        "output = keras.layers.Dense(1)(concat)\n",
        "rfmodel = keras.Model(inputs=[input_], outputs=[output])\n",
        "# # Another alternative DNN with multiple inputs. For Multiple outputs, tune output paramerter of models.Model accordingly\n",
        "# input_A = keras.layers.Input(shape=[5], name=\"wide_input\")\n",
        "# input_B = keras.layers.Input(shape=[6], name=\"deep_input\")\n",
        "# hidden1 = keras.layers.Dense(30, activation=\"relu\")(input_B)\n",
        "# hidden2 = keras.layers.Dense(30, activation=\"relu\")(hidden1)\n",
        "# concat = keras.layers.concatenate([input_A, hidden2])\n",
        "# output = keras.layers.Dense(1, name=\"output\")(concat)\n",
        "# model = keras.models.Model(inputs=[input_A, input_B], outputs=[output])\n"
      ],
      "metadata": {
        "id": "c79EuwHXnlkW"
      },
      "execution_count": null,
      "outputs": []
    },
    {
      "cell_type": "code",
      "source": [
        "rfmodel.compile(loss=\"mean_squared_error\", optimizer=\"sgd\")\n",
        "history = rfmodel.fit(htrain, hytrain, epochs=20, validation_data=(hvalid, hyvalid))\n",
        "rfmodel.evaluate(htest,hytest)"
      ],
      "metadata": {
        "colab": {
          "base_uri": "https://localhost:8080/"
        },
        "id": "j0L0rMa0pTmV",
        "outputId": "db20676f-6131-42c0-ac92-b282f8df1816"
      },
      "execution_count": null,
      "outputs": [
        {
          "output_type": "stream",
          "name": "stdout",
          "text": [
            "Epoch 1/20\n",
            "363/363 [==============================] - 1s 2ms/step - loss: 0.9527 - val_loss: 0.5551\n",
            "Epoch 2/20\n",
            "363/363 [==============================] - 1s 1ms/step - loss: 0.5474 - val_loss: 0.6183\n",
            "Epoch 3/20\n",
            "363/363 [==============================] - 0s 1ms/step - loss: 0.4757 - val_loss: 0.4720\n",
            "Epoch 4/20\n",
            "363/363 [==============================] - 1s 1ms/step - loss: 0.4689 - val_loss: 0.4436\n",
            "Epoch 5/20\n",
            "363/363 [==============================] - 1s 1ms/step - loss: 0.4231 - val_loss: 0.4269\n",
            "Epoch 6/20\n",
            "363/363 [==============================] - 0s 1ms/step - loss: 0.4359 - val_loss: 0.4192\n",
            "Epoch 7/20\n",
            "363/363 [==============================] - 1s 1ms/step - loss: 0.4096 - val_loss: 0.4106\n",
            "Epoch 8/20\n",
            "363/363 [==============================] - 0s 1ms/step - loss: 0.6743 - val_loss: 0.4060\n",
            "Epoch 9/20\n",
            "363/363 [==============================] - 1s 1ms/step - loss: 0.4094 - val_loss: 0.3978\n",
            "Epoch 10/20\n",
            "363/363 [==============================] - 1s 1ms/step - loss: 0.3890 - val_loss: 0.3888\n",
            "Epoch 11/20\n",
            "363/363 [==============================] - 0s 1ms/step - loss: 0.3856 - val_loss: 0.3997\n",
            "Epoch 12/20\n",
            "363/363 [==============================] - 1s 1ms/step - loss: 0.3798 - val_loss: 0.3730\n",
            "Epoch 13/20\n",
            "363/363 [==============================] - 1s 1ms/step - loss: 0.3623 - val_loss: 0.3706\n",
            "Epoch 14/20\n",
            "363/363 [==============================] - 1s 1ms/step - loss: 0.3674 - val_loss: 0.3639\n",
            "Epoch 15/20\n",
            "363/363 [==============================] - 1s 1ms/step - loss: 0.3631 - val_loss: 0.3738\n",
            "Epoch 16/20\n",
            "363/363 [==============================] - 0s 1ms/step - loss: 0.3873 - val_loss: 0.3621\n",
            "Epoch 17/20\n",
            "363/363 [==============================] - 0s 1ms/step - loss: 0.3579 - val_loss: 0.3643\n",
            "Epoch 18/20\n",
            "363/363 [==============================] - 0s 1ms/step - loss: 0.3567 - val_loss: 0.3623\n",
            "Epoch 19/20\n",
            "363/363 [==============================] - 1s 2ms/step - loss: 0.3428 - val_loss: 0.3484\n",
            "Epoch 20/20\n",
            "363/363 [==============================] - 0s 1ms/step - loss: 0.3437 - val_loss: 0.3548\n",
            "162/162 [==============================] - 0s 913us/step - loss: 0.3696\n"
          ]
        },
        {
          "output_type": "execute_result",
          "data": {
            "text/plain": [
              "0.3695552945137024"
            ]
          },
          "metadata": {},
          "execution_count": 24
        }
      ]
    },
    {
      "cell_type": "code",
      "source": [
        "# Part wide, part deep\n",
        "input_A = keras.layers.Input(shape=[5], name=\"wide_input\")\n",
        "input_B = keras.layers.Input(shape=[6], name=\"deep_input\")\n",
        "hidden1 = keras.layers.Dense(30, activation=\"relu\")(input_B)\n",
        "hidden2 = keras.layers.Dense(30, activation=\"relu\")(hidden1)\n",
        "concat = keras.layers.concatenate([input_A, hidden2])\n",
        "output = keras.layers.Dense(1, name=\"output\")(concat)\n",
        "rf2model = keras.Model(inputs=[input_A, input_B], outputs=[output])\n",
        "# # Alternatively this for multiple outputs\n",
        "# output = keras.layers.Dense(1, name=\"main_output\")(concat)\n",
        "# aux_output = keras.layers.Dense(1, name=\"aux_output\")(hidden2)\n",
        "# model = keras.Model(inputs=[input_A, input_B], outputs=[output, aux_output])\n",
        "\n",
        "\n",
        "rf2model.compile(loss=\"mean_squared_error\", optimizer=\"sgd\")\n",
        "history = rf2model.fit((htrain[:, :5], htrain[:, 2:]), hytrain, epochs=20, validation_data=((hvalid[:, :5],hvalid[:, 2:]), hyvalid))\n",
        "rf2model.evaluate((htest[:, :5], htest[:, 2:]),hytest)"
      ],
      "metadata": {
        "colab": {
          "base_uri": "https://localhost:8080/"
        },
        "id": "BtViiT2fprSk",
        "outputId": "88227d58-0163-41c4-c7be-fc2d93fadf22"
      },
      "execution_count": null,
      "outputs": [
        {
          "output_type": "stream",
          "name": "stdout",
          "text": [
            "Epoch 1/20\n",
            "363/363 [==============================] - 1s 2ms/step - loss: 0.7960 - val_loss: 0.5705\n",
            "Epoch 2/20\n",
            "363/363 [==============================] - 1s 1ms/step - loss: 0.8452 - val_loss: 0.5858\n",
            "Epoch 3/20\n",
            "363/363 [==============================] - 0s 1ms/step - loss: 0.5481 - val_loss: 0.5395\n",
            "Epoch 4/20\n",
            "363/363 [==============================] - 1s 1ms/step - loss: 0.5261 - val_loss: 0.5156\n",
            "Epoch 5/20\n",
            "363/363 [==============================] - 1s 1ms/step - loss: 0.4850 - val_loss: 0.4924\n",
            "Epoch 6/20\n",
            "363/363 [==============================] - 0s 1ms/step - loss: 0.4791 - val_loss: 0.4878\n",
            "Epoch 7/20\n",
            "363/363 [==============================] - 0s 1ms/step - loss: 0.4700 - val_loss: 0.4806\n",
            "Epoch 8/20\n",
            "363/363 [==============================] - 1s 2ms/step - loss: 0.4448 - val_loss: 0.4611\n",
            "Epoch 9/20\n",
            "363/363 [==============================] - 1s 1ms/step - loss: 0.4359 - val_loss: 0.4504\n",
            "Epoch 10/20\n",
            "363/363 [==============================] - 1s 1ms/step - loss: 0.4620 - val_loss: 0.4412\n",
            "Epoch 11/20\n",
            "363/363 [==============================] - 1s 2ms/step - loss: 0.4513 - val_loss: 0.4301\n",
            "Epoch 12/20\n",
            "363/363 [==============================] - 0s 1ms/step - loss: 0.4102 - val_loss: 0.4218\n",
            "Epoch 13/20\n",
            "363/363 [==============================] - 1s 1ms/step - loss: 0.4000 - val_loss: 0.4135\n",
            "Epoch 14/20\n",
            "363/363 [==============================] - 0s 1ms/step - loss: 0.3966 - val_loss: 0.4145\n",
            "Epoch 15/20\n",
            "363/363 [==============================] - 0s 1ms/step - loss: 0.3997 - val_loss: 0.4121\n",
            "Epoch 16/20\n",
            "363/363 [==============================] - 1s 1ms/step - loss: 0.3875 - val_loss: 0.4122\n",
            "Epoch 17/20\n",
            "363/363 [==============================] - 0s 1ms/step - loss: 0.3782 - val_loss: 0.3925\n",
            "Epoch 18/20\n",
            "363/363 [==============================] - 0s 1ms/step - loss: 0.3795 - val_loss: 0.5440\n",
            "Epoch 19/20\n",
            "363/363 [==============================] - 0s 1ms/step - loss: 0.3754 - val_loss: 0.3749\n",
            "Epoch 20/20\n",
            "363/363 [==============================] - 0s 1ms/step - loss: 0.3611 - val_loss: 0.3689\n",
            "162/162 [==============================] - 0s 931us/step - loss: 0.3776\n"
          ]
        },
        {
          "output_type": "execute_result",
          "data": {
            "text/plain": [
              "0.3776235282421112"
            ]
          },
          "metadata": {},
          "execution_count": 25
        }
      ]
    },
    {
      "cell_type": "markdown",
      "source": [
        "# TensorBoard"
      ],
      "metadata": {
        "id": "6Yf_0UO3D4Hr"
      }
    },
    {
      "cell_type": "code",
      "source": [
        "import os\n",
        "root_logdir = os.path.join(os.curdir, \"my_logs\")\n",
        "def get_run_logdir():\n",
        "    import time\n",
        "    run_id = time.strftime(\"run_%Y_%m_%d-%H_%M_%S\")\n",
        "    return os.path.join(root_logdir, run_id)\n",
        "\n",
        "run_logdir = get_run_logdir()\n",
        "# run_logdir\n",
        "\n",
        "keras.backend.clear_session()\n",
        "np.random.seed(42)\n",
        "tf.random.set_seed(42)"
      ],
      "metadata": {
        "id": "QJwYt0wImTci"
      },
      "execution_count": null,
      "outputs": []
    },
    {
      "cell_type": "code",
      "source": [
        "model = keras.models.Sequential([\n",
        "    keras.layers.Dense(30, activation=\"relu\", input_shape=[28, 28]),\n",
        "    keras.layers.Dense(30, activation=\"relu\"),\n",
        "    keras.layers.Dense(1)\n",
        "])    \n",
        "model.compile(loss=\"mse\", optimizer=keras.optimizers.SGD(learning_rate=1e-3))"
      ],
      "metadata": {
        "id": "57hy1rAomgPR"
      },
      "execution_count": null,
      "outputs": []
    },
    {
      "cell_type": "code",
      "source": [
        "(X_train_full, y_train_full), (X_test, y_test) = keras.datasets.mnist.load_data()\n",
        "xvalid, xtrain = X_train_full[:5000] / 255., X_train_full[5000:] / 255.\n",
        "yvalid, ytrain = y_train_full[:5000], y_train_full[5000:]\n",
        "xtest = X_test / 255."
      ],
      "metadata": {
        "colab": {
          "base_uri": "https://localhost:8080/"
        },
        "id": "nnABRRgXna4_",
        "outputId": "c893590d-c395-4008-f84c-f27719799620"
      },
      "execution_count": null,
      "outputs": [
        {
          "output_type": "stream",
          "name": "stdout",
          "text": [
            "Downloading data from https://storage.googleapis.com/tensorflow/tf-keras-datasets/mnist.npz\n",
            "11493376/11490434 [==============================] - 0s 0us/step\n",
            "11501568/11490434 [==============================] - 0s 0us/step\n"
          ]
        }
      ]
    },
    {
      "cell_type": "code",
      "source": [
        "tensorboard_cb = keras.callbacks.TensorBoard(run_logdir)\n",
        "checkpoint_cb = keras.callbacks.ModelCheckpoint(\"my_keras_model.h5\", save_best_only=True)\n",
        "history = model.fit(xtrain, ytrain, epochs=30,\n",
        "                    validation_data=(xvalid, yvalid),\n",
        "                    callbacks=[checkpoint_cb, tensorboard_cb])"
      ],
      "metadata": {
        "colab": {
          "base_uri": "https://localhost:8080/"
        },
        "id": "UYihtpxJmj-p",
        "outputId": "611d32fb-6dd9-4ba3-849b-dab2624b76c0"
      },
      "execution_count": null,
      "outputs": [
        {
          "output_type": "stream",
          "name": "stdout",
          "text": [
            "Epoch 1/30\n",
            "1719/1719 [==============================] - 4s 2ms/step - loss: 9.3679 - val_loss: 8.2779\n",
            "Epoch 2/30\n",
            "1719/1719 [==============================] - 3s 2ms/step - loss: 8.3785 - val_loss: 8.2703\n",
            "Epoch 3/30\n",
            "1719/1719 [==============================] - 3s 2ms/step - loss: 8.3743 - val_loss: 8.2580\n",
            "Epoch 4/30\n",
            "1719/1719 [==============================] - 3s 2ms/step - loss: 8.3696 - val_loss: 8.2665\n",
            "Epoch 5/30\n",
            "1719/1719 [==============================] - 3s 2ms/step - loss: 8.3705 - val_loss: 8.2596\n",
            "Epoch 6/30\n",
            "1719/1719 [==============================] - 3s 2ms/step - loss: 8.3689 - val_loss: 8.2540\n",
            "Epoch 7/30\n",
            "1719/1719 [==============================] - 3s 2ms/step - loss: 8.3668 - val_loss: 8.2569\n",
            "Epoch 8/30\n",
            "1719/1719 [==============================] - 3s 2ms/step - loss: 8.3649 - val_loss: 8.2538\n",
            "Epoch 9/30\n",
            "1719/1719 [==============================] - 3s 2ms/step - loss: 8.3650 - val_loss: 8.2543\n",
            "Epoch 10/30\n",
            "1719/1719 [==============================] - 3s 2ms/step - loss: 8.3638 - val_loss: 8.2519\n",
            "Epoch 11/30\n",
            "1719/1719 [==============================] - 3s 2ms/step - loss: 8.3651 - val_loss: 8.2517\n",
            "Epoch 12/30\n",
            "1719/1719 [==============================] - 3s 2ms/step - loss: 8.3637 - val_loss: 8.2517\n",
            "Epoch 13/30\n",
            "1719/1719 [==============================] - 3s 2ms/step - loss: 8.3643 - val_loss: 8.2507\n",
            "Epoch 14/30\n",
            "1719/1719 [==============================] - 3s 2ms/step - loss: 8.3623 - val_loss: 8.2571\n",
            "Epoch 15/30\n",
            "1719/1719 [==============================] - 3s 2ms/step - loss: 8.3625 - val_loss: 8.2501\n",
            "Epoch 16/30\n",
            "1719/1719 [==============================] - 3s 2ms/step - loss: 8.3631 - val_loss: 8.2500\n",
            "Epoch 17/30\n",
            "1719/1719 [==============================] - 3s 2ms/step - loss: 8.3622 - val_loss: 8.2505\n",
            "Epoch 18/30\n",
            "1719/1719 [==============================] - 3s 2ms/step - loss: 8.3628 - val_loss: 8.2504\n",
            "Epoch 19/30\n",
            "1719/1719 [==============================] - 3s 2ms/step - loss: 8.3629 - val_loss: 8.2559\n",
            "Epoch 20/30\n",
            "1719/1719 [==============================] - 3s 2ms/step - loss: 8.3630 - val_loss: 8.2494\n",
            "Epoch 21/30\n",
            "1719/1719 [==============================] - 3s 2ms/step - loss: 8.3619 - val_loss: 8.2578\n",
            "Epoch 22/30\n",
            "1719/1719 [==============================] - 3s 2ms/step - loss: 8.3630 - val_loss: 8.2539\n",
            "Epoch 23/30\n",
            "1719/1719 [==============================] - 3s 2ms/step - loss: 8.3613 - val_loss: 8.2506\n",
            "Epoch 24/30\n",
            "1719/1719 [==============================] - 3s 2ms/step - loss: 8.3620 - val_loss: 8.2593\n",
            "Epoch 25/30\n",
            "1719/1719 [==============================] - 3s 2ms/step - loss: 8.3622 - val_loss: 8.2569\n",
            "Epoch 26/30\n",
            "1719/1719 [==============================] - 3s 2ms/step - loss: 8.3621 - val_loss: 8.2554\n",
            "Epoch 27/30\n",
            "1719/1719 [==============================] - 3s 2ms/step - loss: 8.3618 - val_loss: 8.2681\n",
            "Epoch 28/30\n",
            "1719/1719 [==============================] - 3s 2ms/step - loss: 8.3624 - val_loss: 8.2496\n",
            "Epoch 29/30\n",
            "1719/1719 [==============================] - 3s 2ms/step - loss: 8.3615 - val_loss: 8.2498\n",
            "Epoch 30/30\n",
            "1719/1719 [==============================] - 3s 2ms/step - loss: 8.3616 - val_loss: 8.2491\n"
          ]
        }
      ]
    },
    {
      "cell_type": "code",
      "source": [
        "# # For running in Terminal, use the following\n",
        "# $ tensorboard --logdir=./my_logs --port=6006 \n",
        "\n",
        "# For collab, use the following\n",
        "%load_ext tensorboard\n",
        "%tensorboard --logdir=./my_logs --port=6006"
      ],
      "metadata": {
        "colab": {
          "base_uri": "https://localhost:8080/",
          "height": 822
        },
        "id": "rM-J1im5m8cw",
        "outputId": "b1f6d66d-ecff-488f-b77b-23524bb48713"
      },
      "execution_count": null,
      "outputs": [
        {
          "output_type": "display_data",
          "data": {
            "text/plain": [
              "<IPython.core.display.Javascript object>"
            ],
            "application/javascript": [
              "\n",
              "        (async () => {\n",
              "            const url = new URL(await google.colab.kernel.proxyPort(6006, {'cache': true}));\n",
              "            url.searchParams.set('tensorboardColab', 'true');\n",
              "            const iframe = document.createElement('iframe');\n",
              "            iframe.src = url;\n",
              "            iframe.setAttribute('width', '100%');\n",
              "            iframe.setAttribute('height', '800');\n",
              "            iframe.setAttribute('frameborder', 0);\n",
              "            document.body.appendChild(iframe);\n",
              "        })();\n",
              "    "
            ]
          },
          "metadata": {}
        }
      ]
    },
    {
      "cell_type": "code",
      "source": [
        "from tensorboard import notebook\n",
        "notebook.list() \n",
        "# Control TensorBoard display. If no port is provided, \n",
        "# the most recently launched TensorBoard is used\n",
        "notebook.display(port=6006, height=1000) "
      ],
      "metadata": {
        "colab": {
          "base_uri": "https://localhost:8080/",
          "height": 1000
        },
        "id": "KeWEY9TWaUNb",
        "outputId": "521b9814-9b82-440f-9067-4b8ac3f98405"
      },
      "execution_count": null,
      "outputs": [
        {
          "output_type": "stream",
          "name": "stdout",
          "text": [
            "Known TensorBoard instances:\n",
            "  - port 6006: logdir ./my_logs (started 0:00:00 ago; pid 871)\n",
            "Selecting TensorBoard with logdir ./my_logs (started 0:00:00 ago; port 6006, pid 871).\n"
          ]
        },
        {
          "output_type": "display_data",
          "data": {
            "text/plain": [
              "<IPython.core.display.Javascript object>"
            ],
            "application/javascript": [
              "\n",
              "        (async () => {\n",
              "            const url = new URL(await google.colab.kernel.proxyPort(6006, {'cache': true}));\n",
              "            url.searchParams.set('tensorboardColab', 'true');\n",
              "            const iframe = document.createElement('iframe');\n",
              "            iframe.src = url;\n",
              "            iframe.setAttribute('width', '100%');\n",
              "            iframe.setAttribute('height', '1000');\n",
              "            iframe.setAttribute('frameborder', 0);\n",
              "            document.body.appendChild(iframe);\n",
              "        })();\n",
              "    "
            ]
          },
          "metadata": {}
        }
      ]
    }
  ]
}